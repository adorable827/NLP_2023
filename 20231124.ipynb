{
  "nbformat": 4,
  "nbformat_minor": 0,
  "metadata": {
    "colab": {
      "provenance": [],
      "authorship_tag": "ABX9TyMZ9jHV+nuTlq/1LxO/9sWw",
      "include_colab_link": true
    },
    "kernelspec": {
      "name": "python3",
      "display_name": "Python 3"
    },
    "language_info": {
      "name": "python"
    }
  },
  "cells": [
    {
      "cell_type": "markdown",
      "metadata": {
        "id": "view-in-github",
        "colab_type": "text"
      },
      "source": [
        "<a href=\"https://colab.research.google.com/github/adorable827/NLP_2023/blob/main/20231124.ipynb\" target=\"_parent\"><img src=\"https://colab.research.google.com/assets/colab-badge.svg\" alt=\"Open In Colab\"/></a>"
      ]
    },
    {
      "cell_type": "code",
      "execution_count": null,
      "metadata": {
        "id": "rVuo0vcFFfrj"
      },
      "outputs": [],
      "source": [
        "def 퀴즈게임():\n",
        "    퀴즈들 = [\n",
        "        {\"질문\": \"파이썬의 창시자는 누구인가요?\", \"선택지\": [\"Guido van Rossum\", \"James Gosling\", \"Larry Page\", \"Mark Zuckerberg\"], \"정답\": \"Guido van Rossum\"},\n",
        "        {\"질문\": \"세계에서 가장 큰 강은 무엇인가요?\", \"선택지\": [\"아마존 강\", \"나일 강\", \"양측강\", \"한강\"], \"정답\": \"아마존 강\"},\n",
        "        {\"질문\": \"태양계에서 가장 큰 행성은 무엇인가요?\", \"선택지\": [\"지구\", \"목성\", \"토성\", \"화성\"], \"정답\": \"목성\"},\n",
        "        {\"질문\": \"세계에서 가장 높은 산은 무엇인가요?\", \"선택지\": [\"에베레스트 산\", \"히말라야 산\", \"킬리만자로 산\", \"알톱 두아미 산\"], \"정답\": \"에베레스트 산\"}\n",
        "    ]\n",
        "\n",
        "    점수 = 0\n",
        "\n",
        "    print(\"퀴즈 게임을 시작합니다!\")\n",
        "\n",
        "    for 퀴즈 in 퀴즈들:\n",
        "        print(\"\\n\" + 퀴즈[\"질문\"])\n",
        "        for index, 선택지 in enumerate(퀴즈[\"선택지\"], start=1):\n",
        "            print(f\"{index}. {선택지}\")\n",
        "\n",
        "        try:\n",
        "            답 = int(input(\"정답의 번호를 입력하세요: \"))\n",
        "        except ValueError:\n",
        "            print(\"올바른 번호를 입력하세요.\")\n",
        "            continue\n",
        "\n",
        "        if 1 <= 답 <= len(퀴즈[\"선택지\"]):\n",
        "            선택한_답 = 퀴즈[\"선택지\"][답 - 1]\n",
        "            if 선택한_답 == 퀴즈[\"정답\"]:\n",
        "                print(\"정답입니다! +1점 획득.\")\n",
        "                점수 += 1\n",
        "            else:\n",
        "                print(f\"틀렸습니다. 정답은 {퀴즈['정답']}입니다.\")\n",
        "        else:\n",
        "            print(\"올바른 번호를 입력하세요.\")\n",
        "\n",
        "    print(f\"\\n게임 종료! 총 획득한 점수는 {점수}점입니다.\")\n",
        "\n",
        "퀴즈게임()\n"
      ]
    }
  ]
}