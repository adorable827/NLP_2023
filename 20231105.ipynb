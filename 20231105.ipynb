{
  "nbformat": 4,
  "nbformat_minor": 0,
  "metadata": {
    "colab": {
      "provenance": [],
      "authorship_tag": "ABX9TyPuWAvlKP1Eeodfy2nFp9L1",
      "include_colab_link": true
    },
    "kernelspec": {
      "name": "python3",
      "display_name": "Python 3"
    },
    "language_info": {
      "name": "python"
    }
  },
  "cells": [
    {
      "cell_type": "markdown",
      "metadata": {
        "id": "view-in-github",
        "colab_type": "text"
      },
      "source": [
        "<a href=\"https://colab.research.google.com/github/adorable827/NLP_2023/blob/main/20231105.ipynb\" target=\"_parent\"><img src=\"https://colab.research.google.com/assets/colab-badge.svg\" alt=\"Open In Colab\"/></a>"
      ]
    },
    {
      "cell_type": "code",
      "execution_count": null,
      "metadata": {
        "id": "IHkiziMWJWUP"
      },
      "outputs": [],
      "source": [
        "import random\n",
        "\n",
        "def choose_random_word():\n",
        "    words = [\"apple\", \"banana\", \"cherry\", \"date\", \"elderberry\", \"fig\", \"grape\"]\n",
        "    return random.choice(words)\n",
        "\n",
        "def hangman():\n",
        "    word = choose_random_word()\n",
        "    guessed_letters = []\n",
        "    attempts = 6\n",
        "\n",
        "    print(\"행맨 게임을 시작합니다. 단어의 길이:\", len(word))\n",
        "\n",
        "    while attempts > 0:\n",
        "        display_word = \"\"\n",
        "        for letter in word:\n",
        "            if letter in guessed_letters:\n",
        "                display_word += letter\n",
        "            else:\n",
        "                display_word += \"_\"\n",
        "\n",
        "        print(\"단어:\", display_word)\n",
        "        print(\"남은 시도 횟수:\", attempts)\n",
        "\n",
        "        guess = input(\"알파벳을 추측하세요: \").lower()\n",
        "\n",
        "        if len(guess) != 1 or not guess.isalpha():\n",
        "            print(\"올바른 알파벳을 입력하세요.\")\n",
        "            continue\n",
        "\n",
        "        if guess in guessed_letters:\n",
        "            print(\"이미 추측한 알파벳입니다.\")\n",
        "            continue\n",
        "\n",
        "        guessed_letters.append(guess)\n",
        "\n",
        "        if guess in word:\n",
        "            print(\"정답!\")\n",
        "        else:\n",
        "            print(\"틀렸습니다.\")\n",
        "            attempts -= 1\n",
        "\n",
        "        if \"_\" not in display_word:\n",
        "            print(\"축하합니다! 단어를 맞췄습니다. 정답은:\", word)\n",
        "            break\n",
        "\n",
        "    if \"_\" in display_word:\n",
        "        print(\"시도 횟수를 모두 소진했습니다. 게임 오버! 정답은:\", word)\n",
        "\n",
        "if __name__ == \"__main__\":\n",
        "    hangman()\n"
      ]
    }
  ]
}