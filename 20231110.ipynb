{
  "nbformat": 4,
  "nbformat_minor": 0,
  "metadata": {
    "colab": {
      "provenance": [],
      "authorship_tag": "ABX9TyOrxBFOebl6PLSLFrjNmb02",
      "include_colab_link": true
    },
    "kernelspec": {
      "name": "python3",
      "display_name": "Python 3"
    },
    "language_info": {
      "name": "python"
    }
  },
  "cells": [
    {
      "cell_type": "markdown",
      "metadata": {
        "id": "view-in-github",
        "colab_type": "text"
      },
      "source": [
        "<a href=\"https://colab.research.google.com/github/adorable827/NLP_2023/blob/main/20231110.ipynb\" target=\"_parent\"><img src=\"https://colab.research.google.com/assets/colab-badge.svg\" alt=\"Open In Colab\"/></a>"
      ]
    },
    {
      "cell_type": "code",
      "execution_count": null,
      "metadata": {
        "id": "IPtdOiqBYsx0"
      },
      "outputs": [],
      "source": [
        "import random\n",
        "\n",
        "def hide_and_seek():\n",
        "    target_number = random.randint(1, 20)\n",
        "\n",
        "    print(\"숨바꼭질 게임을 시작합니다! 1부터 20까지의 숫자 중에서 하나를 선택했습니다.\")\n",
        "\n",
        "    attempts = 0\n",
        "    max_attempts = 5\n",
        "\n",
        "    while attempts < max_attempts:\n",
        "        guess = int(input(\"추측한 숫자를 입력하세요: \"))\n",
        "\n",
        "        attempts += 1\n",
        "\n",
        "        if guess == target_number:\n",
        "            print(f\"축하합니다! {attempts}번만에 숨은 숫자를 찾았습니다. 정답은 {target_number}입니다.\")\n",
        "            break\n",
        "        elif guess < target_number:\n",
        "            print(\"숫자가 너무 작습니다. 다시 시도하세요.\")\n",
        "        else:\n",
        "            print(\"숫자가 너무 큽니다. 다시 시도하세요.\")\n",
        "\n",
        "    if attempts == max_attempts:\n",
        "        print(f\"아쉽게도 {max_attempts}번의 시도 끝에 숫자를 찾지 못했습니다. 정답은 {target_number}입니다.\")\n",
        "\n",
        "hide_and_seek()\n"
      ]
    }
  ]
}