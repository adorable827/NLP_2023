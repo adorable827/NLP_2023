{
  "nbformat": 4,
  "nbformat_minor": 0,
  "metadata": {
    "colab": {
      "provenance": [],
      "authorship_tag": "ABX9TyO1P4EVhZQz2QPN7Ke7MxTB",
      "include_colab_link": true
    },
    "kernelspec": {
      "name": "python3",
      "display_name": "Python 3"
    },
    "language_info": {
      "name": "python"
    }
  },
  "cells": [
    {
      "cell_type": "markdown",
      "metadata": {
        "id": "view-in-github",
        "colab_type": "text"
      },
      "source": [
        "<a href=\"https://colab.research.google.com/github/adorable827/NLP_2023/blob/main/20231015.ipynb\" target=\"_parent\"><img src=\"https://colab.research.google.com/assets/colab-badge.svg\" alt=\"Open In Colab\"/></a>"
      ]
    },
    {
      "cell_type": "code",
      "execution_count": null,
      "metadata": {
        "id": "adZKqO7-DbD5"
      },
      "outputs": [],
      "source": [
        "idol_member = {\n",
        "    '이름': '류이결,'금동화','백강아','강해온'\n",
        "    '그룹': '10Z'\n",
        "    '생일': '0125','0810','0609','0310'\n",
        "    '소속사': '뉴아이스'\n",
        "}\n",
        "\n",
        "print(\"아이돌 멤버 정보\")\n",
        "print(\"이름: \" + idol_member['이름'])\n",
        "print(\"그룹: \" + idol_member['그룹'])\n",
        "print(\"생일: \" + str(idol_member['생일']))\n",
        "print(\"소속사: \" + idol_member['소속사'])"
      ]
    }
  ]
}