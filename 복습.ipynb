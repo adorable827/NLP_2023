{
  "nbformat": 4,
  "nbformat_minor": 0,
  "metadata": {
    "colab": {
      "provenance": [],
      "authorship_tag": "ABX9TyOH6F8sJLQ1r2yHFfCbqhud",
      "include_colab_link": true
    },
    "kernelspec": {
      "name": "python3",
      "display_name": "Python 3"
    },
    "language_info": {
      "name": "python"
    }
  },
  "cells": [
    {
      "cell_type": "markdown",
      "metadata": {
        "id": "view-in-github",
        "colab_type": "text"
      },
      "source": [
        "<a href=\"https://colab.research.google.com/github/adorable827/NLP_2023/blob/main/%EB%B3%B5%EC%8A%B5.ipynb\" target=\"_parent\"><img src=\"https://colab.research.google.com/assets/colab-badge.svg\" alt=\"Open In Colab\"/></a>"
      ]
    },
    {
      "cell_type": "code",
      "execution_count": null,
      "metadata": {
        "id": "ZWDmeu2kEAVD"
      },
      "outputs": [],
      "source": [
        "# NLP_2023\n",
        "\n",
        "# :full_moon: :rabbit2: :cherry_blossom: Python Language\n",
        "## **Learning Python** usung **colab**\n",
        "\n",
        "### **1. Sign up github** [visit a tutorial on Youtube](https://www.youtube.com/watch?v=c-NikCpec7U)\n",
        "### **2. Sign up Google Colaboratory(a.k.a colab)** [visit a tutorial on Youtube](https://www.youtube.com/watch?v=2X_EU18OeYM)\n",
        "\n",
        "Python basics\n",
        "- Python Exercise 200 by 장삼용, 정보문화사 2017\n",
        "- [Jump to Python](https://wikidocs.net/book/1)\n",
        "- [wikidocs for nltk](https://wikidocs.net/21667)\n",
        "\n",
        "Emoji (https://gist.github.com/rxaviers/7360908) Markdown syntax (https://www.markdownguide.org/basic-syntax/)\n",
        "| # | Sessions | keywords\n",
        "| :--: | :--: | :--: |\n",
        "| 1 | Code Cells | [varialbe, assign](https://github.com/adorable827/NLP_2023/blob/main/1_CodeCells_Basic.ipynb) |\n",
        "| 2 | Five Types of Data | [numer, string, list, tuple, dictionary](https://github.com/adorable827/NLP_2023/blob/main/1_CodeCells_Basic.ipynb) |\n",
        "| 3 | Indexing & Slicing | [:, 0, -1, link +, repeat *, length len](https://github.com/adorable827/NLP_2023/blob/main/1_CodeCells_Basic.ipynb) |\n"
      ]
    }
  ]
}