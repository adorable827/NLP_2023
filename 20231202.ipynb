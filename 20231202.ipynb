{
  "nbformat": 4,
  "nbformat_minor": 0,
  "metadata": {
    "colab": {
      "provenance": [],
      "authorship_tag": "ABX9TyMKGwxVMKnsnWjtAqpVAdPX",
      "include_colab_link": true
    },
    "kernelspec": {
      "name": "python3",
      "display_name": "Python 3"
    },
    "language_info": {
      "name": "python"
    }
  },
  "cells": [
    {
      "cell_type": "markdown",
      "metadata": {
        "id": "view-in-github",
        "colab_type": "text"
      },
      "source": [
        "<a href=\"https://colab.research.google.com/github/adorable827/NLP_2023/blob/main/20231202.ipynb\" target=\"_parent\"><img src=\"https://colab.research.google.com/assets/colab-badge.svg\" alt=\"Open In Colab\"/></a>"
      ]
    },
    {
      "cell_type": "code",
      "execution_count": null,
      "metadata": {
        "id": "uFLChxkz0C_5"
      },
      "outputs": [],
      "source": [
        "class 프로그래밍언어추천기:\n",
        "    def __init__(self):\n",
        "        self.질문들 = [\n",
        "            \"1. 새로운 프로그래밍 언어를 배우려고 합니다.\",\n",
        "            \"2. 웹 개발에 관심이 있습니다.\",\n",
        "            \"3. 과학이나 데이터 분석에 사용하고 싶습니다.\",\n",
        "            \"4. 모바일 앱을 개발하고 싶습니다.\",\n",
        "            \"5. 게임 개발에 관심이 있습니다.\"\n",
        "        ]\n",
        "\n",
        "        self.언어추천 = {\n",
        "            \"1\": \"Python\",\n",
        "            \"2\": \"JavaScript\",\n",
        "            \"3\": \"R 또는 Python\",\n",
        "            \"4\": \"Java 또는 Swift\",\n",
        "            \"5\": \"C++ 또는 C#\"\n",
        "        }\n",
        "\n",
        "    def 명령어_처리(self, 명령어):\n",
        "        if 명령어 == \"추천\":\n",
        "            self.프로그래밍언어_추천()\n",
        "        elif 명령어 == \"종료\":\n",
        "            print(\"프로그래밍 언어 추천기를 종료합니다.\")\n",
        "            return False\n",
        "        else:\n",
        "            print(\"알 수 없는 명령어입니다. 다시 입력하세요.\")\n",
        "        return True\n",
        "\n",
        "    def 프로그래밍언어_추천(self):\n",
        "        print(\"프로그래밍 언어 추천을 시작합니다. 다음 질문에 답해주세요.\")\n",
        "\n",
        "        for 질문 in self.질문들:\n",
        "            답 = input(f\"{질문} (Y/N): \").upper()\n",
        "            if 답 != 'Y':\n",
        "                print(\"다음 질문으로 넘어갑니다.\")\n",
        "            else:\n",
        "                break\n",
        "\n",
        "        print(\"\\n추천하는 프로그래밍 언어는 다음과 같습니다:\")\n",
        "        print(self.언어추천[답])\n",
        "\n",
        "def 추천기실행():\n",
        "    추천기_인스턴스 = 프로그래밍언어추천기()\n",
        "    print(\"프로그래밍 언어 추천기를 시작합니다. 명령어를 입력하세요.\")\n",
        "\n",
        "    while True:\n",
        "        명령어 = input(\"\\n(추천, 종료): \").lower()\n",
        "        결과 = 추천기_인스턴스.명령어_처리(명령어)\n",
        "        if not 결과:\n",
        "            break\n",
        "\n",
        "추천기실행()\n"
      ]
    }
  ]
}