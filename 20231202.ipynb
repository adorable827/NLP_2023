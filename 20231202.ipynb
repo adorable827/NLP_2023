{
  "nbformat": 4,
  "nbformat_minor": 0,
  "metadata": {
    "colab": {
      "provenance": [],
      "authorship_tag": "ABX9TyNsUPz4OLFIDk5gjnyawfbc",
      "include_colab_link": true
    },
    "kernelspec": {
      "name": "python3",
      "display_name": "Python 3"
    },
    "language_info": {
      "name": "python"
    }
  },
  "cells": [
    {
      "cell_type": "markdown",
      "metadata": {
        "id": "view-in-github",
        "colab_type": "text"
      },
      "source": [
        "<a href=\"https://colab.research.google.com/github/adorable827/NLP_2023/blob/main/20231202.ipynb\" target=\"_parent\"><img src=\"https://colab.research.google.com/assets/colab-badge.svg\" alt=\"Open In Colab\"/></a>"
      ]
    },
    {
      "cell_type": "code",
      "execution_count": null,
      "metadata": {
        "id": "NFIUjjydG_El"
      },
      "outputs": [],
      "source": [
        "import requests\n",
        "from bs4 import BeautifulSoup\n",
        "\n",
        "class 해시태그인기게시물조회기:\n",
        "    def __init__(self):\n",
        "        pass\n",
        "\n",
        "    def 명령어_처리(self, 명령어):\n",
        "        if 명령어 == \"조회\":\n",
        "            해시태그 = input(\"인기 게시물을 조회할 해시태그를 입력하세요: \")\n",
        "            self.인기게시물_조회(해시태그)\n",
        "        elif 명령어 == \"종료\":\n",
        "            print(\"인스타그램 해시태그 인기 게시물 조회기를 종료합니다.\")\n",
        "            return False\n",
        "        else:\n",
        "            print(\"알 수 없는 명령어입니다. 다시 입력하세요.\")\n",
        "        return True\n",
        "\n",
        "    def 인기게시물_조회(self, 해시태그):\n",
        "        url = f\"https://www.instagram.com/explore/tags/{해시태그}/\"\n",
        "        headers = {\"User-Agent\": \"Mozilla/5.0 (Windows NT 10.0; Win64; x64) AppleWebKit/537.36 (KHTML, like Gecko) Chrome/91.0.4472.124 Safari/537.36\"}\n",
        "        응답 = requests.get(url, headers=headers)\n",
        "\n",
        "        if 응답.status_code == 200:\n",
        "            soup = BeautifulSoup(응답.text, \"html.parser\")\n",
        "            게시물_엘리먼트들 = soup.find_all(\"div\", {\"class\": \"v1Nh3\"})\n",
        "\n",
        "            if 게시물_엘리먼트들:\n",
        "                print(f\"\\n#{해시태그} 인기 게시물 Top 5:\")\n",
        "                for index, 엘리먼트 in enumerate(게시물_엘리먼트들[:5], start=1):\n",
        "                    링크 = 엘리먼트.find(\"a\")[\"href\"]\n",
        "                    print(f\"{index}. https://www.instagram.com{링크}\")\n",
        "            else:\n",
        "                print(f\"#{해시태그} 관련 인기 게시물을 찾을 수 없습니다.\")\n",
        "        else:\n",
        "            print(\"인기 게시물 조회에 실패했습니다.\")\n",
        "\n",
        "def 인스타그램조회기실행():\n",
        "    조회기_인스턴스 = 해시태그인기게시물조회기()\n",
        "    print(\"인스타그램 해시태그 인기 게시물 조회기를 시작합니다. 명령어를 입력하세요.\")\n",
        "\n",
        "    while True:\n",
        "        명령어 = input(\"\\n(조회, 종료): \").lower()\n",
        "        결과 = 조회기_인스턴스.명령어_처리(명령어)\n",
        "        if not 결과:\n",
        "            break\n",
        "\n",
        "인스타그램조회기실행()\n"
      ]
    }
  ]
}