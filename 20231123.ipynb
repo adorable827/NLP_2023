{
  "nbformat": 4,
  "nbformat_minor": 0,
  "metadata": {
    "colab": {
      "provenance": [],
      "authorship_tag": "ABX9TyOV3cubKV2/i+4z9ysbekyZ",
      "include_colab_link": true
    },
    "kernelspec": {
      "name": "python3",
      "display_name": "Python 3"
    },
    "language_info": {
      "name": "python"
    }
  },
  "cells": [
    {
      "cell_type": "markdown",
      "metadata": {
        "id": "view-in-github",
        "colab_type": "text"
      },
      "source": [
        "<a href=\"https://colab.research.google.com/github/adorable827/NLP_2023/blob/main/20231123.ipynb\" target=\"_parent\"><img src=\"https://colab.research.google.com/assets/colab-badge.svg\" alt=\"Open In Colab\"/></a>"
      ]
    },
    {
      "cell_type": "code",
      "execution_count": null,
      "metadata": {
        "id": "l1WWovcH_I2T"
      },
      "outputs": [],
      "source": [
        "import random\n",
        "\n",
        "def 쓰레기통게임():\n",
        "    def 생성_게임판():\n",
        "        게임판 = [[\" \" for _ in range(10)] for _ in range(10)]\n",
        "        return 게임판\n",
        "\n",
        "    def 쓰레기통_출력(게임판, 쓰레기통_위치):\n",
        "        게임판[쓰레기통_위치[0]][쓰레기통_위치[1]] = \"T\"\n",
        "        for 행 in 게임판:\n",
        "            print(\" \".join(칸 for 칸 in 행))\n",
        "        게임판[쓰레기통_위치[0]][쓰레기통_위치[1]] = \" \"\n",
        "\n",
        "    def 쓰레기_생성():\n",
        "        return [random.randint(0, 9), random.randint(0, 9)]\n",
        "\n",
        "    def 이동(키, 쓰레기통_위치):\n",
        "        if 키 == \"W\" and 쓰레기통_위치[0] > 0:\n",
        "            쓰레기통_위치[0] -= 1\n",
        "        elif 키 == \"S\" and 쓰레기통_위치[0] < 9:\n",
        "            쓰레기통_위치[0] += 1\n",
        "        elif 키 == \"A\" and 쓰레기통_위치[1] > 0:\n",
        "            쓰레기통_위치[1] -= 1\n",
        "        elif 키 == \"D\" and 쓰레기통_위치[1] < 9:\n",
        "            쓰레기통_위치[1] += 1\n",
        "\n",
        "    쓰레기통_위치 = [5, 5]\n",
        "    점수 = 0\n",
        "\n",
        "    print(\"투명한 쓰레기통 게임을 시작합니다!\")\n",
        "    print(\"쓰레기를 피하고, 쓰레기통이 쓰레기를 획득하세요.\")\n",
        "\n",
        "    while True:\n",
        "        쓰레기_위치 = 쓰레기_생성()\n",
        "        쓰레기통_출력(생성_게임판(), 쓰레기통_위치)\n",
        "\n",
        "        키 = input(\"이동할 방향을 입력하세요 (W: 위, S: 아래, A: 왼쪽, D: 오른쪽): \").upper()\n",
        "\n",
        "        이동(키, 쓰레기통_위치)\n",
        "\n",
        "        if 쓰레기_위치 == 쓰레기통_위치:\n",
        "            print(\"쓰레기를 획득하였습니다! 점수 +1\")\n",
        "            점수 += 1\n",
        "        elif 쓰레기_위치[0] == 5 and 쓰레기_위치[1] == 5:\n",
        "            print(\"쓰레기통과 충돌하였습니다. 게임 종료!\")\n",
        "            break\n",
        "\n",
        "    print(f\"최종 점수: {점수}\")\n",
        "\n",
        "쓰레기통게임()\n"
      ]
    }
  ]
}