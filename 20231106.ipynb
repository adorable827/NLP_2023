{
  "nbformat": 4,
  "nbformat_minor": 0,
  "metadata": {
    "colab": {
      "provenance": [],
      "authorship_tag": "ABX9TyOD6Zdi2hgCsejvoUs7yzul",
      "include_colab_link": true
    },
    "kernelspec": {
      "name": "python3",
      "display_name": "Python 3"
    },
    "language_info": {
      "name": "python"
    }
  },
  "cells": [
    {
      "cell_type": "markdown",
      "metadata": {
        "id": "view-in-github",
        "colab_type": "text"
      },
      "source": [
        "<a href=\"https://colab.research.google.com/github/adorable827/NLP_2023/blob/main/20231106.ipynb\" target=\"_parent\"><img src=\"https://colab.research.google.com/assets/colab-badge.svg\" alt=\"Open In Colab\"/></a>"
      ]
    },
    {
      "cell_type": "code",
      "execution_count": null,
      "metadata": {
        "id": "KrKiA0UX00FY"
      },
      "outputs": [],
      "source": [
        "import random\n",
        "\n",
        "def main():\n",
        "    print(\"어드벤처 게임에 오신 것을 환영합니다!\")\n",
        "    player_name = input(\"플레이어의 이름을 입력하세요: \")\n",
        "    print(f\"{player_name}, 이제 모험을 시작합니다!\")\n",
        "\n",
        "    while True:\n",
        "        print(\"\\n당신은 어디로 가시겠습니까?\")\n",
        "        print(\"1. 숲으로 가기\")\n",
        "        print(\"2. 도시로 가기\")\n",
        "        print(\"3. 종료\")\n",
        "\n",
        "        choice = input(\"선택하실 옵션의 번호를 입력하세요: \")\n",
        "\n",
        "        if choice == '1':\n",
        "            forest_adventure()\n",
        "        elif choice == '2':\n",
        "            city_adventure()\n",
        "        elif choice == '3':\n",
        "            print(\"게임을 종료합니다. 다음에 또 만나요!\")\n",
        "            break\n",
        "        else:\n",
        "            print(\"올바른 옵션 번호를 선택하세요.\")\n",
        "\n",
        "def forest_adventure():\n",
        "    print(\"\\n숲으로 들어가 본당 당신은...\")\n",
        "    outcomes = [\"늑대를 만났습니다. 다행히 도망칠 수 있었습니다.\", \"맛있는 딸기를 발견했습니다.\", \"길을 잃어버렸습니다.\"]\n",
        "    result = random.choice(outcomes)\n",
        "    print(f\"숲에서 {result}\")\n",
        "\n",
        "def city_adventure():\n",
        "    print(\"\\n도시에 도착했습니다. 어떤 일을 하시겠습니까?\")\n",
        "    outcomes = [\"상점에서 무기를 구매했습니다.\", \"도시 광장에서 흥미로운 이야기를 들었습니다.\", \"도시에서 음식을 먹었습니다.\"]\n",
        "    result = random.choice(outcomes)\n",
        "    print(f\"{result}\")\n",
        "\n",
        "if __name__ == \"__main__\":\n",
        "    main()\n"
      ]
    }
  ]
}