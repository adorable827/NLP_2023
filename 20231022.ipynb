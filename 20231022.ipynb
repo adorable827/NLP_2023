{
  "nbformat": 4,
  "nbformat_minor": 0,
  "metadata": {
    "colab": {
      "provenance": [],
      "authorship_tag": "ABX9TyPy7s9zW+bQl1/2QJkx/dI4",
      "include_colab_link": true
    },
    "kernelspec": {
      "name": "python3",
      "display_name": "Python 3"
    },
    "language_info": {
      "name": "python"
    }
  },
  "cells": [
    {
      "cell_type": "markdown",
      "metadata": {
        "id": "view-in-github",
        "colab_type": "text"
      },
      "source": [
        "<a href=\"https://colab.research.google.com/github/adorable827/NLP_2023/blob/main/20231022.ipynb\" target=\"_parent\"><img src=\"https://colab.research.google.com/assets/colab-badge.svg\" alt=\"Open In Colab\"/></a>"
      ]
    },
    {
      "cell_type": "code",
      "execution_count": null,
      "metadata": {
        "id": "w2Nb_TSWck_w"
      },
      "outputs": [],
      "source": [
        "korean_frankenstein_songs = [\n",
        "    \"1. 서론 (Overture)\",\n",
        "    \"2. 어둠 속을 밝히는 빛 (The Light in the Darkness)\",\n",
        "    \"3. 과연 그가 다를까? (Is He the One?)\",\n",
        "    \"4. 고독한 사냥꾼 (The Lonely Hunter)\",\n",
        "    \"5. 암울한 고독 (Solitary Darkness)\",\n",
        "    \"6. 정의를 세우는 자 (The One Who Sets Things Right)\",\n",
        "    \"7. 모든 것이 시작된 곳 (Where It All Began)\",\n",
        "    \"8. 그림자로 가득한 곳 (A Place Filled with Shadows)\",\n",
        "    \"9. 그림자의 노래 (Song of Shadows)\",\n",
        "    \"10. 내 안의 괴물 (The Monster Within)\",\n",
        "    \"11. 위험한 게임 (Dangerous Game)\",\n",
        "    \"12. 어둠 속의 외침 (Cries in the Dark)\",\n",
        "    \"13. 허무하게 끝나는 모든 것 (All Ends in Vanity)\",\n",
        "    \"14. 진리를 찾아서 (In Search of the Truth)\",\n",
        "    \"15. 단단한 결의 (Firm Resolve)\",\n",
        "    \"16. 죽음과 연대 (Bound by Death)\",\n",
        "    \"17. 심장의 호흡 (The Breath of the Heart)\",\n",
        "]\n",
        "\n",
        "# 리스트 출력\n",
        "for song in korean_frankenstein_songs:\n",
        "    print(song)\n"
      ]
    }
  ]
}