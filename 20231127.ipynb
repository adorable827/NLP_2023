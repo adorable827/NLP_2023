{
  "nbformat": 4,
  "nbformat_minor": 0,
  "metadata": {
    "colab": {
      "provenance": [],
      "authorship_tag": "ABX9TyMzxSR0Z7tJPWthwyuY5VZx",
      "include_colab_link": true
    },
    "kernelspec": {
      "name": "python3",
      "display_name": "Python 3"
    },
    "language_info": {
      "name": "python"
    }
  },
  "cells": [
    {
      "cell_type": "markdown",
      "metadata": {
        "id": "view-in-github",
        "colab_type": "text"
      },
      "source": [
        "<a href=\"https://colab.research.google.com/github/adorable827/NLP_2023/blob/main/20231127.ipynb\" target=\"_parent\"><img src=\"https://colab.research.google.com/assets/colab-badge.svg\" alt=\"Open In Colab\"/></a>"
      ]
    },
    {
      "cell_type": "code",
      "execution_count": null,
      "metadata": {
        "id": "BJhiXcTSr0zI"
      },
      "outputs": [],
      "source": [
        "class 노트앱:\n",
        "    def __init__(self):\n",
        "        self.노트 = []\n",
        "\n",
        "    def 명령어_처리(self, 명령어):\n",
        "        if 명령어 == \"출력\":\n",
        "            self.출력()\n",
        "        elif 명령어 == \"추가\":\n",
        "            내용 = input(\"추가할 노트를 입력하세요: \")\n",
        "            self.추가(내용)\n",
        "        elif 명령어 == \"저장\":\n",
        "            self.저장()\n",
        "        elif 명령어 == \"종료\":\n",
        "            print(\"노트 앱을 종료합니다.\")\n",
        "            return False\n",
        "        else:\n",
        "            print(\"알 수 없는 명령어입니다. 다시 입력하세요.\")\n",
        "        return True\n",
        "\n",
        "    def 출력(self):\n",
        "        if self.노트:\n",
        "            print(\"\\n\".join(self.노트))\n",
        "        else:\n",
        "            print(\"노트가 비어 있습니다.\")\n",
        "\n",
        "    def 추가(self, 내용):\n",
        "        self.노트.append(내용)\n",
        "        print(\"노트에 내용을 추가했습니다.\")\n",
        "\n",
        "    def 저장(self):\n",
        "        if self.노트:\n",
        "            with open(\"노트.txt\", \"w\") as 파일:\n",
        "                파일.write(\"\\n\".join(self.노트))\n",
        "            print(\"노트를 파일에 저장했습니다.\")\n",
        "        else:\n",
        "            print(\"저장할 노트가 없습니다.\")\n",
        "\n",
        "def 노트앱실행():\n",
        "    노트앱_인스턴스 = 노트앱()\n",
        "    print(\"텍스트 기반 노트 앱을 시작합니다. 명령어를 입력하세요.\")\n",
        "\n",
        "    while True:\n",
        "        명령어 = input(\"\\n(출력, 추가, 저장, 종료): \").lower()\n",
        "        결과 = 노트앱_인스턴스.명령어_처리(명령어)\n",
        "        if not 결과:\n",
        "            break\n",
        "\n",
        "노트앱실행()\n"
      ]
    }
  ]
}