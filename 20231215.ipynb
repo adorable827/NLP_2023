{
  "nbformat": 4,
  "nbformat_minor": 0,
  "metadata": {
    "colab": {
      "provenance": [],
      "authorship_tag": "ABX9TyNHkT0D6AVry6LXmi4b78la",
      "include_colab_link": true
    },
    "kernelspec": {
      "name": "python3",
      "display_name": "Python 3"
    },
    "language_info": {
      "name": "python"
    }
  },
  "cells": [
    {
      "cell_type": "markdown",
      "metadata": {
        "id": "view-in-github",
        "colab_type": "text"
      },
      "source": [
        "<a href=\"https://colab.research.google.com/github/adorable827/NLP_2023/blob/main/20231215.ipynb\" target=\"_parent\"><img src=\"https://colab.research.google.com/assets/colab-badge.svg\" alt=\"Open In Colab\"/></a>"
      ]
    },
    {
      "cell_type": "code",
      "execution_count": null,
      "metadata": {
        "id": "L-GCFGVGqrzK"
      },
      "outputs": [],
      "source": [
        "class 명령어챗봇:\n",
        "    def __init__(self):\n",
        "        self.명령어_사전 = {}\n",
        "\n",
        "    def 명령어_처리(self, 명령어):\n",
        "        if 명령어 == \"종료\":\n",
        "            print(\"명령어 챗봇을 종료합니다.\")\n",
        "            return False\n",
        "        elif 명령어 == \"학습\":\n",
        "            self.명령어_학습()\n",
        "        else:\n",
        "            self.명령어_응답(명령어)\n",
        "        return True\n",
        "\n",
        "    def 명령어_학습(self):\n",
        "        새_명령어 = input(\"추가할 명령어를 입력하세요: \")\n",
        "        응답 = input(f\"'{새_명령어}'에 대한 응답을 입력하세요: \")\n",
        "        self.명령어_사전[새_명령어] = 응답\n",
        "        print(f\"'{새_명령어}' 명령어를 학습했습니다.\")\n",
        "\n",
        "    def 명령어_응답(self, 명령어):\n",
        "        응답 = self.명령어_사전.get(명령어, \"이해할 수 없는 명령어입니다.\")\n",
        "        print(f\"\\n챗봇: {응답}\")\n",
        "\n",
        "def 명령어챗봇실행():\n",
        "    챗봇_인스턴스 = 명령어챗봇()\n",
        "    print(\"명령어 챗봇을 시작합니다. 명령어를 입력하세요.\")\n",
        "\n",
        "    while True:\n",
        "        명령어 = input(\"\\n(명령어, 종료): \").lower()\n",
        "        결과 = 챗봇_인스턴스.명령어_처리(명령어)\n",
        "        if not 결과:\n",
        "            break\n",
        "\n",
        "명령어챗봇실행()\n"
      ]
    }
  ]
}