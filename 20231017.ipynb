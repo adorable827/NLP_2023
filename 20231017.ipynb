{
  "nbformat": 4,
  "nbformat_minor": 0,
  "metadata": {
    "colab": {
      "provenance": [],
      "authorship_tag": "ABX9TyPTIrw1daEFGzH33k1yXaYs",
      "include_colab_link": true
    },
    "kernelspec": {
      "name": "python3",
      "display_name": "Python 3"
    },
    "language_info": {
      "name": "python"
    }
  },
  "cells": [
    {
      "cell_type": "markdown",
      "metadata": {
        "id": "view-in-github",
        "colab_type": "text"
      },
      "source": [
        "<a href=\"https://colab.research.google.com/github/adorable827/NLP_2023/blob/main/20231017.ipynb\" target=\"_parent\"><img src=\"https://colab.research.google.com/assets/colab-badge.svg\" alt=\"Open In Colab\"/></a>"
      ]
    },
    {
      "cell_type": "code",
      "execution_count": null,
      "metadata": {
        "id": "o__CWGSDpcBB"
      },
      "outputs": [],
      "source": [
        "과일_리스트 = [\"멜론\", \"감\", \"망고\", \"딸기\", \"수박\"]\n",
        "\n",
        "print(\"좋아하는 과일 리스트:\")\n",
        "for 과일 in 과일_리스트:\n",
        "    print(과일)\n"
      ]
    }
  ]
}