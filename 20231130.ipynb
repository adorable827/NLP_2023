{
  "nbformat": 4,
  "nbformat_minor": 0,
  "metadata": {
    "colab": {
      "provenance": [],
      "authorship_tag": "ABX9TyPkwQFqMJ6/ALN1X7MjYuXY",
      "include_colab_link": true
    },
    "kernelspec": {
      "name": "python3",
      "display_name": "Python 3"
    },
    "language_info": {
      "name": "python"
    }
  },
  "cells": [
    {
      "cell_type": "markdown",
      "metadata": {
        "id": "view-in-github",
        "colab_type": "text"
      },
      "source": [
        "<a href=\"https://colab.research.google.com/github/adorable827/NLP_2023/blob/main/20231130.ipynb\" target=\"_parent\"><img src=\"https://colab.research.google.com/assets/colab-badge.svg\" alt=\"Open In Colab\"/></a>"
      ]
    },
    {
      "cell_type": "code",
      "execution_count": null,
      "metadata": {
        "id": "iSkmm8I2XbZn"
      },
      "outputs": [],
      "source": [
        "from googletrans import Translator\n",
        "\n",
        "class 번역기:\n",
        "    def __init__(self):\n",
        "        self.translator = Translator()\n",
        "\n",
        "    def 명령어_처리(self, 명령어):\n",
        "        if 명령어 == \"영한\":\n",
        "            self.번역(\"en\", \"ko\")\n",
        "        elif 명령어 == \"한영\":\n",
        "            self.번역(\"ko\", \"en\")\n",
        "        elif 명령어 == \"종료\":\n",
        "            print(\"번역기를 종료합니다.\")\n",
        "            return False\n",
        "        else:\n",
        "            print(\"알 수 없는 명령어입니다. 다시 입력하세요.\")\n",
        "        return True\n",
        "\n",
        "    def 번역(self, 출발언어, 도착언어):\n",
        "        문장 = input(f\"{출발언어.upper()}에서 {도착언어.upper()}로 번역할 문장을 입력하세요: \")\n",
        "        결과 = self.translator.translate(문장, src=출발언어, dest=도착언어)\n",
        "        print(f\"번역 결과: {결과.text}\")\n",
        "\n",
        "def 번역기실행():\n",
        "    번역기_인스턴스 = 번역기()\n",
        "    print(\"간단한 번역기를 시작합니다. 명령어를 입력하세요.\")\n",
        "\n",
        "    while True:\n",
        "        명령어 = input(\"\\n(영한, 한영, 종료): \").lower()\n",
        "        결과 = 번역기_인스턴스.명령어_처리(명령어)\n",
        "        if not 결과:\n",
        "            break\n",
        "\n",
        "번역기실행()\n"
      ]
    }
  ]
}