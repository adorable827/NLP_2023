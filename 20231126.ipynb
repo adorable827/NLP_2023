{
  "nbformat": 4,
  "nbformat_minor": 0,
  "metadata": {
    "colab": {
      "provenance": [],
      "authorship_tag": "ABX9TyNwXc7GQj4NujyEfDnis1WZ",
      "include_colab_link": true
    },
    "kernelspec": {
      "name": "python3",
      "display_name": "Python 3"
    },
    "language_info": {
      "name": "python"
    }
  },
  "cells": [
    {
      "cell_type": "markdown",
      "metadata": {
        "id": "view-in-github",
        "colab_type": "text"
      },
      "source": [
        "<a href=\"https://colab.research.google.com/github/adorable827/NLP_2023/blob/main/20231126.ipynb\" target=\"_parent\"><img src=\"https://colab.research.google.com/assets/colab-badge.svg\" alt=\"Open In Colab\"/></a>"
      ]
    },
    {
      "cell_type": "code",
      "execution_count": null,
      "metadata": {
        "id": "G4qLbjGQ63Vg"
      },
      "outputs": [],
      "source": [
        "import random\n",
        "\n",
        "def 로또번호생성기():\n",
        "    print(\"로또 번호 생성기를 시작합니다!\")\n",
        "\n",
        "    while True:\n",
        "        로또번호 = random.sample(range(1, 46), 6)\n",
        "        로또번호.sort()\n",
        "\n",
        "        print(\"생성된 로또 번호:\", 로또번호)\n",
        "\n",
        "        계속할지 = input(\"새로운 로또 번호를 생성하시겠습니까? (Y/N): \").upper()\n",
        "        if 계속할지 != 'Y':\n",
        "            print(\"로또 번호 생성기를 종료합니다.\")\n",
        "            break\n",
        "\n",
        "로또번호생성기()\n"
      ]
    }
  ]
}