{
  "nbformat": 4,
  "nbformat_minor": 0,
  "metadata": {
    "colab": {
      "provenance": [],
      "authorship_tag": "ABX9TyN9BSL/xlyLDp4IxTfH+y7D",
      "include_colab_link": true
    },
    "kernelspec": {
      "name": "python3",
      "display_name": "Python 3"
    },
    "language_info": {
      "name": "python"
    }
  },
  "cells": [
    {
      "cell_type": "markdown",
      "metadata": {
        "id": "view-in-github",
        "colab_type": "text"
      },
      "source": [
        "<a href=\"https://colab.research.google.com/github/adorable827/NLP_2023/blob/main/20231209.ipynb\" target=\"_parent\"><img src=\"https://colab.research.google.com/assets/colab-badge.svg\" alt=\"Open In Colab\"/></a>"
      ]
    },
    {
      "cell_type": "code",
      "execution_count": null,
      "metadata": {
        "id": "hXlLViFvDFIN"
      },
      "outputs": [],
      "source": [
        "import random\n",
        "\n",
        "class 명언생성기:\n",
        "    def __init__(self):\n",
        "        self.주제들 = [\"사랑\", \"성공\", \"인생\", \"도전\", \"희망\", \"자유\", \"지혜\", \"평화\", \"행복\"]\n",
        "        self.구조들 = [\"{주제}은(는) {설명}이다.\", \"{주제}은(는) {조건}에서 {결과}을(를) 얻는 것과 같다.\",\n",
        "                      \"{주제}은(는) {비유}와 같다.\", \"{주제}은(는) {감정}이다.\", \"{주제}은(는) {방법}과 같다.\"]\n",
        "\n",
        "    def 명령어_처리(self, 명령어):\n",
        "        if 명령어 == \"생성\":\n",
        "            self.명언_생성()\n",
        "        elif 명령어 == \"종료\":\n",
        "            print(\"명언 생성기를 종료합니다.\")\n",
        "            return False\n",
        "        else:\n",
        "            print(\"알 수 없는 명령어입니다. 다시 입력하세요.\")\n",
        "        return True\n",
        "\n",
        "    def 명언_생성(self):\n",
        "        주제 = random.choice(self.주제들)\n",
        "        명언_구조 = random.choice(self.구조들)\n",
        "\n",
        "        명언 = 명언_구조.format(\n",
        "            주제=주제,\n",
        "            설명=self.랜덤_설명(),\n",
        "            조건=self.랜덤_조건(),\n",
        "            결과=self.랜덤_결과(),\n",
        "            비유=self.랜덤_비유(),\n",
        "            감정=self.랜덤_감정(),\n",
        "            방법=self.랜덤_방법()\n",
        "        )\n",
        "\n",
        "        print(\"\\n생성된 명언:\")\n",
        "        print(명언)\n",
        "\n",
        "    def 랜덤_설명(self):\n",
        "        설명들 = [\"아름답다\", \"어렵다\", \"복잡하다\", \"불가능하다\", \"미지의 것이다\", \"무한하다\"]\n",
        "        return random.choice(설명들)\n",
        "\n",
        "    def 랜덤_조건(self):\n",
        "        조건들 = [\"노력\", \"인내\", \"희생\", \"전략\", \"의지\", \"자기관리\"]\n",
        "        return random.choice(조건들)\n",
        "\n",
        "    def 랜덤_결과(self):\n",
        "        결과들 = [\"성공\", \"행복\", \"만족\", \"성취\", \"인정\", \"자유\"]\n",
        "        return random.choice(결과들)\n",
        "\n",
        "    def 랜덤_비유(self):\n",
        "        비유들 = [\"바다 속의 작은 모래알\", \"하늘을 나는 자유로운 새\", \"끝없는 산의 정상\", \"꽃 피우는 봄의 햇볕\"]\n",
        "        return random.choice(비유들)\n",
        "\n",
        "    def 랜덤_감정(self):\n",
        "        감정들 = [\"사랑\", \"기쁨\", \"감사\", \"희망\", \"열정\", \"자부심\"]\n",
        "        return random.choice(감정들)\n",
        "\n",
        "    def 랜덤_방법(self):\n",
        "        방법들 = [\"노래 부르기\", \"책 읽기\", \"여행 가기\", \"목표 세우기\", \"운동하기\", \"새로운 경험 쌓기\"]\n",
        "        return random.choice(방법들)\n",
        "\n",
        "def 명언생성기실행():\n",
        "    생성기_인스턴스 = 명언생성기()\n",
        "    print(\"명언 생성기를 시작합니다. 명령어를 입력하세요.\")\n",
        "\n",
        "    while True:\n",
        "        명령어 = input(\"\\n(생성, 종료): \").lower()\n",
        "        결과 = 생성기_인스턴스.명령어_처리(명령어)\n",
        "        if not 결과:\n",
        "            break\n",
        "\n",
        "명언생성기실행()\n"
      ]
    }
  ]
}