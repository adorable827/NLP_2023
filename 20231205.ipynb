{
  "nbformat": 4,
  "nbformat_minor": 0,
  "metadata": {
    "colab": {
      "provenance": [],
      "authorship_tag": "ABX9TyPBUKjJc0eNjVNd+pRoZwn2",
      "include_colab_link": true
    },
    "kernelspec": {
      "name": "python3",
      "display_name": "Python 3"
    },
    "language_info": {
      "name": "python"
    }
  },
  "cells": [
    {
      "cell_type": "markdown",
      "metadata": {
        "id": "view-in-github",
        "colab_type": "text"
      },
      "source": [
        "<a href=\"https://colab.research.google.com/github/adorable827/NLP_2023/blob/main/20231205.ipynb\" target=\"_parent\"><img src=\"https://colab.research.google.com/assets/colab-badge.svg\" alt=\"Open In Colab\"/></a>"
      ]
    },
    {
      "cell_type": "code",
      "execution_count": null,
      "metadata": {
        "id": "agaiieK2Y0b9"
      },
      "outputs": [],
      "source": [
        "import requests\n",
        "\n",
        "class 뉴스헤드라인알리미:\n",
        "    def __init__(self, api_key):\n",
        "        self.api_key = api_key\n",
        "        self.카테고리들 = [\"business\", \"entertainment\", \"health\", \"science\", \"sports\", \"technology\"]\n",
        "\n",
        "    def 명령어_처리(self, 명령어):\n",
        "        if 명령어 == \"조회\":\n",
        "            카테고리 = input(\"뉴스 헤드라인을 조회할 카테고리를 선택하세요 (business, entertainment, health, science, sports, technology): \").lower()\n",
        "            if 카테고리 in self.카테고리들:\n",
        "                self.뉴스헤드라인_조회(카테고리)\n",
        "            else:\n",
        "                print(\"유효하지 않은 카테고리입니다.\")\n",
        "        elif 명령어 == \"종료\":\n",
        "            print(\"뉴스 헤드라인 알리미를 종료합니다.\")\n",
        "            return False\n",
        "        else:\n",
        "            print(\"알 수 없는 명령어입니다. 다시 입력하세요.\")\n",
        "        return True\n",
        "\n",
        "    def 뉴스헤드라인_조회(self, 카테고리):\n",
        "        url = f\"https://newsapi.org/v2/top-headlines?country=us&category={카테고리}&apiKey={self.api_key}\"\n",
        "        응답 = requests.get(url)\n",
        "\n",
        "        if 응답.status_code == 200:\n",
        "            뉴스정보 = 응답.json()\n",
        "            헤드라인들 = 뉴스정보.get(\"articles\", [])\n",
        "\n",
        "            if 헤드라인들:\n",
        "                print(f\"\\n'{카테고리}' 카테고리 뉴스 헤드라인 Top 5:\")\n",
        "                for index, 헤드라인 in enumerate(헤드라인들[:5], start=1):\n",
        "                    제목 = 헤드라인.get(\"title\", \"제목 없음\")\n",
        "                    링크 = 헤드라인.get(\"url\", \"#\")\n",
        "                    print(f\"{index}. {제목} - {링크}\")\n",
        "            else:\n",
        "                print(f\"'{카테고리}' 카테고리에 대한 뉴스 헤드라인을 찾을 수 없습니다.\")\n",
        "        else:\n",
        "            print(\"뉴스 헤드라인 조회에 실패했습니다.\")\n",
        "\n",
        "def 뉴스알리미실행(api_key):\n",
        "    뉴스알리미_인스턴스 = 뉴스헤드라인알리미(api_key)\n",
        "    print(\"뉴스 헤드라인 알리미를 시작합니다. 명령어를 입력하세요.\")\n",
        "\n",
        "    while True:\n",
        "        명령어 = input(\"\\n(조회, 종료): \").lower()\n",
        "        결과 = 뉴스알리미_인스턴스.명령어_처리(명령어)\n",
        "        if not 결과:\n",
        "            break\n",
        "\n",
        "api_key = \"your_news_api_key\"\n",
        "\n",
        "\n",
        "뉴스알리미실행(api_key)\n"
      ]
    }
  ]
}