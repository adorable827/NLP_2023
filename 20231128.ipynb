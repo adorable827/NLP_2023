{
  "nbformat": 4,
  "nbformat_minor": 0,
  "metadata": {
    "colab": {
      "provenance": [],
      "authorship_tag": "ABX9TyPoK12nRHpzvpIwRhNTPrNT",
      "include_colab_link": true
    },
    "kernelspec": {
      "name": "python3",
      "display_name": "Python 3"
    },
    "language_info": {
      "name": "python"
    }
  },
  "cells": [
    {
      "cell_type": "markdown",
      "metadata": {
        "id": "view-in-github",
        "colab_type": "text"
      },
      "source": [
        "<a href=\"https://colab.research.google.com/github/adorable827/NLP_2023/blob/main/20231128.ipynb\" target=\"_parent\"><img src=\"https://colab.research.google.com/assets/colab-badge.svg\" alt=\"Open In Colab\"/></a>"
      ]
    },
    {
      "cell_type": "code",
      "execution_count": null,
      "metadata": {
        "id": "bJecWeGCS8jZ"
      },
      "outputs": [],
      "source": [
        "import os\n",
        "import datetime\n",
        "\n",
        "class 일기장:\n",
        "    def __init__(self):\n",
        "        self.일기들 = []\n",
        "\n",
        "    def 명령어_처리(self, 명령어):\n",
        "        if 명령어 == \"목록\":\n",
        "            self.목록()\n",
        "        elif 명령어 == \"추가\":\n",
        "            날짜 = input(\"날짜를 입력하세요 (YYYY-MM-DD): \")\n",
        "            내용 = input(\"일기 내용을 입력하세요: \")\n",
        "            self.추가(날짜, 내용)\n",
        "        elif 명령어 == \"저장\":\n",
        "            self.저장()\n",
        "        elif 명령어 == \"종료\":\n",
        "            print(\"일기장 앱을 종료합니다.\")\n",
        "            return False\n",
        "        else:\n",
        "            print(\"알 수 없는 명령어입니다. 다시 입력하세요.\")\n",
        "        return True\n",
        "\n",
        "    def 목록(self):\n",
        "        if self.일기들:\n",
        "            for 일기 in self.일기들:\n",
        "                print(일기)\n",
        "        else:\n",
        "            print(\"일기가 없습니다.\")\n",
        "\n",
        "    def 추가(self, 날짜, 내용):\n",
        "        일기 = f\"{날짜}: {내용}\"\n",
        "        self.일기들.append(일기)\n",
        "        print(\"일기를 추가했습니다.\")\n",
        "\n",
        "    def 저장(self):\n",
        "        if self.일기들:\n",
        "            파일이름 = f\"일기장_{datetime.datetime.now().strftime('%Y%m%d%H%M%S')}.txt\"\n",
        "            with open(파일이름, \"w\") as 파일:\n",
        "                파일.write(\"\\n\".join(self.일기들))\n",
        "            print(f\"일기를 파일 {파일이름}에 저장했습니다.\")\n",
        "        else:\n",
        "            print(\"저장할 일기가 없습니다.\")\n",
        "\n",
        "def 일기장실행():\n",
        "    일기장_인스턴스 = 일기장()\n",
        "    print(\"일기장 앱을 시작합니다. 명령어를 입력하세요.\")\n",
        "\n",
        "    while True:\n",
        "        명령어 = input(\"\\n(목록, 추가, 저장, 종료): \").lower()\n",
        "        결과 = 일기장_인스턴스.명령어_처리(명령어)\n",
        "        if not 결과:\n",
        "            break\n",
        "\n",
        "일기장실행()\n"
      ]
    }
  ]
}