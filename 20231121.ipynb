{
  "nbformat": 4,
  "nbformat_minor": 0,
  "metadata": {
    "colab": {
      "provenance": [],
      "authorship_tag": "ABX9TyMfJgab6AhsEd1wm3Pbmf4j",
      "include_colab_link": true
    },
    "kernelspec": {
      "name": "python3",
      "display_name": "Python 3"
    },
    "language_info": {
      "name": "python"
    }
  },
  "cells": [
    {
      "cell_type": "markdown",
      "metadata": {
        "id": "view-in-github",
        "colab_type": "text"
      },
      "source": [
        "<a href=\"https://colab.research.google.com/github/adorable827/NLP_2023/blob/main/20231121.ipynb\" target=\"_parent\"><img src=\"https://colab.research.google.com/assets/colab-badge.svg\" alt=\"Open In Colab\"/></a>"
      ]
    },
    {
      "cell_type": "code",
      "execution_count": null,
      "metadata": {
        "id": "7Z6n2EJOydJS"
      },
      "outputs": [],
      "source": [
        "def 캐릭터이동게임():\n",
        "    def 생성_맵():\n",
        "        맵 = [\n",
        "            [\"#\", \"#\", \"#\", \"#\", \"#\", \"#\", \"#\", \"#\", \"#\", \"#\"],\n",
        "            [\"#\", \"S\", \" \", \" \", \" \", \" \", \" \", \" \", \" \", \"#\"],\n",
        "            [\"#\", \"#\", \"#\", \"#\", \"#\", \"#\", \" \", \"#\", \"#\", \"#\"],\n",
        "            [\"#\", \" \", \" \", \" \", \"#\", \" \", \" \", \"#\", \" \", \"#\"],\n",
        "            [\"#\", \" \", \"#\", \" \", \"#\", \" \", \"#\", \"#\", \" \", \"#\"],\n",
        "            [\"#\", \" \", \"#\", \" \", \" \", \" \", \"#\", \"#\", \" \", \"#\"],\n",
        "            [\"#\", \" \", \"#\", \"#\", \"#\", \"#\", \"#\", \"#\", \" \", \"#\"],\n",
        "            [\"#\", \" \", \" \", \" \", \" \", \" \", \" \", \"E\", \" \", \"#\"],\n",
        "            [\"#\", \"#\", \"#\", \"#\", \"#\", \"#\", \"#\", \"#\", \"#\", \"#\"]\n",
        "        ]\n",
        "        return 맵\n",
        "\n",
        "    def 맵_출력(맵):\n",
        "        for 행 in 맵:\n",
        "            print(\"\".join(칸 for 칸 in 행))\n",
        "\n",
        "    def 이동(맵, 위치, 이동방향):\n",
        "        새로운_위치 = (위치[0] + 이동방향[0], 위치[1] + 이동방향[1])\n",
        "\n",
        "        if 0 <= 새로운_위치[0] < len(맵) and 0 <= 새로운_위치[1] < len(맵[0]) and 맵[새로운_위치[0]][새로운_위치[1]] != \"#\":\n",
        "            맵[위치[0]][위치[1]] = \" \"\n",
        "            위치[0], 위치[1] = 새로운_위치[0], 새로운_위치[1]\n",
        "            맵[위치[0]][위치[1]] = \"P\"\n",
        "            return True\n",
        "        else:\n",
        "            return False\n",
        "\n",
        "    def 이긴_검사(맵, 위치):\n",
        "        return 맵[위치[0]][위치[1]] == \"E\"\n",
        "\n",
        "    맵 = 생성_맵()\n",
        "    플레이어_위치 = [1, 1]\n",
        "\n",
        "    print(\"캐릭터 이동 게임을 시작합니다!\")\n",
        "\n",
        "    while not 이긴_검사(맵, 플레이어_위치):\n",
        "        맵_출력(맵)\n",
        "        이동방향 = input(\"이동 방향을 입력하세요 (상: W, 하: S, 좌: A, 우: D): \").upper()\n",
        "\n",
        "        if 이동방향 == \"W\":\n",
        "            if 이동(맵, 플레이어_위치, (-1, 0)):\n",
        "                pass\n",
        "            else:\n",
        "                print(\"이동할 수 없는 위치입니다. 다시 선택하세요.\")\n",
        "                continue\n",
        "        elif 이동방향 == \"S\":\n",
        "            if 이동(맵, 플레이어_위치, (1, 0)):\n",
        "                pass\n",
        "            else:\n",
        "                print(\"이동할 수 없는 위치입니다. 다시 선택하세요.\")\n",
        "                continue\n",
        "        elif 이동방향 == \"A\":\n",
        "            if 이동(맵, 플레이어_위치, (0, -1)):\n",
        "                pass\n",
        "            else:\n",
        "                print(\"이동할 수 없는 위치입니다. 다시 선택하세요.\")\n",
        "                continue\n",
        "        elif 이동방향 == \"D\":\n",
        "            if 이동(맵, 플레이어_위치, (0, 1)):\n",
        "                pass\n",
        "            else:\n",
        "                print(\"이동할 수 없는 위치입니다. 다시 선택하세요.\")\n",
        "                continue\n",
        "        else:\n",
        "            print(\"올바른 입력이 아닙니다. 다시 선택하세요.\")\n",
        "            continue\n",
        "\n",
        "    맵_출력(맵)\n",
        "    print(\"축하합니다! 목적지에 도착했습니다. 게임 종료!\")\n",
        "\n",
        "캐릭터이동게임()\n"
      ]
    }
  ]
}