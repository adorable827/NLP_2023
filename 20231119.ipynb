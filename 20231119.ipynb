{
  "nbformat": 4,
  "nbformat_minor": 0,
  "metadata": {
    "colab": {
      "provenance": [],
      "authorship_tag": "ABX9TyMa/i1hQPpX1ESJ0Fk0yHRn",
      "include_colab_link": true
    },
    "kernelspec": {
      "name": "python3",
      "display_name": "Python 3"
    },
    "language_info": {
      "name": "python"
    }
  },
  "cells": [
    {
      "cell_type": "markdown",
      "metadata": {
        "id": "view-in-github",
        "colab_type": "text"
      },
      "source": [
        "<a href=\"https://colab.research.google.com/github/adorable827/NLP_2023/blob/main/20231119.ipynb\" target=\"_parent\"><img src=\"https://colab.research.google.com/assets/colab-badge.svg\" alt=\"Open In Colab\"/></a>"
      ]
    },
    {
      "cell_type": "code",
      "execution_count": null,
      "metadata": {
        "id": "BnVZtDhv5dXT"
      },
      "outputs": [],
      "source": [
        "import random\n",
        "\n",
        "def 스누커게임():\n",
        "    점수 = 0\n",
        "    목표_점수 = 30\n",
        "    공들 = {\"빨강\": 1, \"노랑\": 2, \"초록\": 3, \"갈색\": 4, \"파랑\": 5, \"분홍\": 6, \"검정\": 7}\n",
        "\n",
        "    print(\"스누커 게임을 시작합니다! 목표 점수는 30점입니다.\")\n",
        "\n",
        "    while 점수 < 목표_점수:\n",
        "        print(f\"\\n현재 점수: {점수}\")\n",
        "\n",
        "        선택 = input(\"칠할 공의 색을 선택하세요 (빨강, 노랑, 초록, 갈색, 파랑, 분홍, 검정): \").lower()\n",
        "\n",
        "        if 선택 in 공들:\n",
        "            칠한_점수 = 공들[선택]\n",
        "            print(f\"{선택} 공을 치셨습니다! {칠한_점수}점 획득.\")\n",
        "            점수 += 칠한_점수\n",
        "        else:\n",
        "            print(\"올바른 색을 선택하세요.\")\n",
        "\n",
        "    print(f\"\\n축하합니다! 목표 점수 {목표_점수}를 달성했습니다. 게임 종료!\")\n",
        "\n",
        "스누커게임()\n"
      ]
    }
  ]
}