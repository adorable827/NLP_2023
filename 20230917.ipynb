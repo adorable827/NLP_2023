{
  "nbformat": 4,
  "nbformat_minor": 0,
  "metadata": {
    "colab": {
      "provenance": [],
      "authorship_tag": "ABX9TyOqTNCVrTk7SvkHROLj7rWB",
      "include_colab_link": true
    },
    "kernelspec": {
      "name": "python3",
      "display_name": "Python 3"
    },
    "language_info": {
      "name": "python"
    }
  },
  "cells": [
    {
      "cell_type": "markdown",
      "metadata": {
        "id": "view-in-github",
        "colab_type": "text"
      },
      "source": [
        "<a href=\"https://colab.research.google.com/github/adorable827/NLP_2023/blob/main/20230917.ipynb\" target=\"_parent\"><img src=\"https://colab.research.google.com/assets/colab-badge.svg\" alt=\"Open In Colab\"/></a>"
      ]
    },
    {
      "cell_type": "code",
      "execution_count": null,
      "metadata": {
        "id": "wnLrbZJPa76J"
      },
      "outputs": [],
      "source": [
        "류준열 = {\n",
        "    \"이름\": \"류준열\",\n",
        "    \"생년월일\": \"1986년 9월 25일\",\n",
        "    \"역할\": \"송태광\"\n",
        "}\n",
        "\n",
        "허정민 = {\n",
        "    \"이름\": \"허정민\",\n",
        "    \"생년월일\": \"1989년 12월 2일\",\n",
        "    \"역할\": \"김정환\"\n",
        "}\n",
        "\n",
        "    \"이름\": \"고경표\",\n",
        "    \"생년월일\": \"1982년 2월 2일\",\n",
        "    \"역할\": \"선우일\"\n",
        "}\n",
        "\n",
        "배우들 = [류준열, 허정민, 고경표]\n",
        "\n",
        "for 배우 in 배우들:\n",
        "    print(f\"{배우['이름']} ({배우['생년월일']}), 역할: {배우['역할']}\")\n"
      ]
    }
  ]
}