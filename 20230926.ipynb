{
  "nbformat": 4,
  "nbformat_minor": 0,
  "metadata": {
    "colab": {
      "provenance": [],
      "authorship_tag": "ABX9TyN/WnRDUnXKiG2H9xEUV+N1",
      "include_colab_link": true
    },
    "kernelspec": {
      "name": "python3",
      "display_name": "Python 3"
    },
    "language_info": {
      "name": "python"
    }
  },
  "cells": [
    {
      "cell_type": "markdown",
      "metadata": {
        "id": "view-in-github",
        "colab_type": "text"
      },
      "source": [
        "<a href=\"https://colab.research.google.com/github/adorable827/NLP_2023/blob/main/20230926.ipynb\" target=\"_parent\"><img src=\"https://colab.research.google.com/assets/colab-badge.svg\" alt=\"Open In Colab\"/></a>"
      ]
    },
    {
      "cell_type": "code",
      "execution_count": null,
      "metadata": {
        "id": "XOWFUCmAsK-c"
      },
      "outputs": [],
      "source": [
        "dict = {'a':1, 'b':2, 'c':3}\n",
        "print(k)\n",
        "print(m)\n",
        "print(dict)\n",
        "dict['a']\n",
        "\n",
        "dict['a']=7\n",
        "print(dict)"
      ]
    },
    {
      "cell_type": "code",
      "source": [
        "dict_data = {'c':10, 'b':20, 'a':30}\n",
        "print(dict_data)\n",
        "dict_data['a'] = 300\n",
        "print(dict_data)"
      ],
      "metadata": {
        "id": "Yr7TYxuGsR0c"
      },
      "execution_count": null,
      "outputs": []
    }
  ]
}