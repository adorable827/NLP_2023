{
  "nbformat": 4,
  "nbformat_minor": 0,
  "metadata": {
    "colab": {
      "provenance": [],
      "authorship_tag": "ABX9TyNE9+834CadlkBjOmXxPRx6",
      "include_colab_link": true
    },
    "kernelspec": {
      "name": "python3",
      "display_name": "Python 3"
    },
    "language_info": {
      "name": "python"
    }
  },
  "cells": [
    {
      "cell_type": "markdown",
      "metadata": {
        "id": "view-in-github",
        "colab_type": "text"
      },
      "source": [
        "<a href=\"https://colab.research.google.com/github/adorable827/NLP_2023/blob/main/20230919_%EB%B3%B5%EC%8A%B5.ipynb\" target=\"_parent\"><img src=\"https://colab.research.google.com/assets/colab-badge.svg\" alt=\"Open In Colab\"/></a>"
      ]
    },
    {
      "cell_type": "code",
      "execution_count": null,
      "metadata": {
        "id": "ewY4fcqIwBmz"
      },
      "outputs": [],
      "source": [
        "| # | Sessions | Keywords |\n",
        "|:--:|:--:|:--:|\n",
        "| 1 | Code Cells 💝 | [variable, assign](https://github.com/adorable827/NLP_2023/blob/main/1_CodeCells_Basic.ipynb)|\n",
        "| 2 | Five Types of Data 💎 | [number, string, list, tuple, dictionary](https://github.com/adorable827/NLP_2023/blob/main/2_FiveTypesofData.ipynb)|\n",
        "| 3 | Indexing & Slicing 🍬💌 | [:, 0, -1, link +, repeat *, length len](https://github.com/ms624atyale/NLP_2023/blob/main/3_Indexing_Slicing.ipynb)|"
      ]
    }
  ]
}
