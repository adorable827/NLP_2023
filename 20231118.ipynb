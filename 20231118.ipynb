{
  "nbformat": 4,
  "nbformat_minor": 0,
  "metadata": {
    "colab": {
      "provenance": [],
      "authorship_tag": "ABX9TyNE/yW2MfJH7oG/ZXipTPPh",
      "include_colab_link": true
    },
    "kernelspec": {
      "name": "python3",
      "display_name": "Python 3"
    },
    "language_info": {
      "name": "python"
    }
  },
  "cells": [
    {
      "cell_type": "markdown",
      "metadata": {
        "id": "view-in-github",
        "colab_type": "text"
      },
      "source": [
        "<a href=\"https://colab.research.google.com/github/adorable827/NLP_2023/blob/main/20231118.ipynb\" target=\"_parent\"><img src=\"https://colab.research.google.com/assets/colab-badge.svg\" alt=\"Open In Colab\"/></a>"
      ]
    },
    {
      "cell_type": "code",
      "execution_count": null,
      "metadata": {
        "id": "hAy_X1jhjg1u"
      },
      "outputs": [],
      "source": [
        "import time\n",
        "import random\n",
        "\n",
        "def 타자연습게임():\n",
        "    단어목록 = [\"apple\", \"banana\", \"cherry\", \"orange\", \"grape\", \"watermelon\", \"pineapple\", \"kiwi\", \"strawberry\", \"blueberry\"]\n",
        "    점수 = 0\n",
        "\n",
        "    print(\"타자 연습 게임을 시작합니다!\")\n",
        "\n",
        "    while True:\n",
        "        단어 = random.choice(단어목록)\n",
        "        print(\"단어를 입력하세요:\", 단어)\n",
        "\n",
        "        시작시간 = time.time()\n",
        "        입력단어 = input().strip().lower()\n",
        "        종료시간 = time.time()\n",
        "\n",
        "        if 입력단어 == 단어:\n",
        "            소요시간 = 종료시간 - 시작시간\n",
        "            속도 = len(단어) / 소요시간\n",
        "            점수 += 1\n",
        "            print(f\"정확합니다! 속도: {속도:.2f} 단어/초, 현재 점수: {점수}\")\n",
        "        else:\n",
        "            print(\"오타가 있습니다. 다시 시도하세요.\")\n",
        "\n",
        "        계속할지 = input(\"더 하시겠습니까? (Y/N): \").upper()\n",
        "        if 계속할지 != 'Y':\n",
        "            print(f\"게임 종료! 최종 점수: {점수}\")\n",
        "            break\n",
        "\n",
        "타자연습게임()\n"
      ]
    }
  ]
}