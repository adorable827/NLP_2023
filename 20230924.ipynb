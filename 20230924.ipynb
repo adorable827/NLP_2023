{
  "nbformat": 4,
  "nbformat_minor": 0,
  "metadata": {
    "colab": {
      "provenance": [],
      "authorship_tag": "ABX9TyOUgG2h2f5wqB6pXFgBbnSb",
      "include_colab_link": true
    },
    "kernelspec": {
      "name": "python3",
      "display_name": "Python 3"
    },
    "language_info": {
      "name": "python"
    }
  },
  "cells": [
    {
      "cell_type": "markdown",
      "metadata": {
        "id": "view-in-github",
        "colab_type": "text"
      },
      "source": [
        "<a href=\"https://colab.research.google.com/github/adorable827/NLP_2023/blob/main/20230924.ipynb\" target=\"_parent\"><img src=\"https://colab.research.google.com/assets/colab-badge.svg\" alt=\"Open In Colab\"/></a>"
      ]
    },
    {
      "cell_type": "code",
      "execution_count": null,
      "metadata": {
        "id": "fNGUlFJHdXJL"
      },
      "outputs": [],
      "source": [
        "import requests\n",
        "from bs4 import BeautifulSoup\n",
        "\n",
        "url = \"https://www.youtube.com/c/우왁굳TV\"\n",
        "\n",
        "response = requests.get(url)\n",
        "\n",
        "soup = BeautifulSoup(response.text, \"html.parser\")\n",
        "\n",
        "channel_name = soup.find(\"yt-formatted-string\", {\"class\": \"style-scope ytd-channel-name\"}).text.strip()\n",
        "\n",
        "subscriber_count = soup.find(\"span\", {\"class\": \"style-scope ytd-c4-tabbed-header-renderer\"}).text.strip()\n",
        "\n",
        "channel_description = soup.find(\"meta\", {\"name\": \"description\"})[\"content\"]\n",
        "\n",
        "print(\"유튜버 이름:\", channel_name)\n",
        "print(\"구독자 수:\", subscriber_count)\n",
        "print(\"채널 설명:\", channel_description)\n"
      ]
    }
  ]
}