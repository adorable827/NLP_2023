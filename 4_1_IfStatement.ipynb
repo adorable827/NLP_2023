{
  "nbformat": 4,
  "nbformat_minor": 0,
  "metadata": {
    "colab": {
      "provenance": [],
      "include_colab_link": true
    },
    "kernelspec": {
      "name": "python3",
      "display_name": "Python 3"
    },
    "language_info": {
      "name": "python"
    }
  },
  "cells": [
    {
      "cell_type": "markdown",
      "metadata": {
        "id": "view-in-github",
        "colab_type": "text"
      },
      "source": [
        "<a href=\"https://colab.research.google.com/github/adorable827/NLP_2023/blob/main/4_1_IfStatement.ipynb\" target=\"_parent\"><img src=\"https://colab.research.google.com/assets/colab-badge.svg\" alt=\"Open In Colab\"/></a>"
      ]
    },
    {
      "cell_type": "markdown",
      "source": [
        "### 🐾  Some useful tips for statements (e.g., if, for, while, etc.), functions or class\n",
        "\n",
        "1️⃣ The code line including a statement or a definition should end with a colon (:).\n",
        "\n",
        "2️⃣ Following executable codes should be indicated by indentation. When you hit the ENTER key for a second code line, indentation is automatically generated. However, when indentation disappears for some reason, you can do this with a tab or a spacebar.\n",
        "\n",
        "3️⃣ All executable code lines should have regular intervals."
      ],
      "metadata": {
        "id": "h2WMM5L89Ra7"
      }
    },
    {
      "cell_type": "code",
      "source": [
        "x=100\n",
        "y=95\n",
        "\n",
        "if x>y:\n",
        "  print('x is greater than y.')\n",
        "\n",
        "\n",
        "else:\n",
        "  print('x is smaller than or equal to y.')"
      ],
      "metadata": {
        "id": "es9O3MH9wKPz"
      },
      "execution_count": null,
      "outputs": []
    },
    {
      "cell_type": "code",
      "source": [
        "x=100\n",
        "y=100\n",
        "\n",
        "if x>y:\n",
        "  print('x is greater than y')\n",
        "\n",
        "else:\n",
        "  print('x is smaller than or equal to y')"
      ],
      "metadata": {
        "id": "b0tUZ8SgyyzA",
        "outputId": "f2ee2604-8d01-4bad-df33-32e17175cfdb",
        "colab": {
          "base_uri": "https://localhost:8080/"
        }
      },
      "execution_count": 1,
      "outputs": [
        {
          "output_type": "stream",
          "name": "stdout",
          "text": [
            "x is smaller than or equal to y\n"
          ]
        }
      ]
    },
    {
      "cell_type": "code",
      "source": [
        "x=0\n",
        "y=0\n",
        "\n",
        "if x > y:\n",
        "  print('x is greater than y')\n",
        "\n",
        "else:\n",
        "  print('x is smaller than or equal to y')"
      ],
      "metadata": {
        "id": "0EEhWrh3nNih"
      },
      "execution_count": null,
      "outputs": []
    },
    {
      "cell_type": "code",
      "source": [
        "x=200\n",
        "y=200\n",
        "\n",
        "if x>y:\n",
        "  print('x is greater than y.')\n",
        "\n",
        "else:\n",
        "  print('x is smaller than or equal to y.')"
      ],
      "metadata": {
        "id": "LFj12hpHzjZA",
        "outputId": "f5d291e7-50ab-4662-ded0-0c602cc768c9",
        "colab": {
          "base_uri": "https://localhost:8080/"
        }
      },
      "execution_count": 3,
      "outputs": [
        {
          "output_type": "stream",
          "name": "stdout",
          "text": [
            "x is smaller than or equal to y\n"
          ]
        }
      ]
    },
    {
      "cell_type": "code",
      "source": [
        "x=345\n",
        "y=678\n",
        "\n",
        "if x>y:\n",
        "  print('x is greater than y.')\n",
        "\n",
        "\n",
        "else:\n",
        "  print('x is smaller than or equal to y.')"
      ],
      "metadata": {
        "id": "khsWyYCvspkL"
      },
      "execution_count": null,
      "outputs": []
    },
    {
      "cell_type": "code",
      "source": [
        "x=438\n",
        "y=543498\n",
        "\n",
        "if x>y:\n",
        "  print('x is greater than or equal to y.')\n",
        "\n",
        "else:\n",
        "  print('x is smaller than or equal to y.')"
      ],
      "metadata": {
        "id": "tCIwuF_Wz4pq",
        "outputId": "a188bf27-e8b9-4e4d-dd18-8d67e7f9f6f3",
        "colab": {
          "base_uri": "https://localhost:8080/"
        }
      },
      "execution_count": 4,
      "outputs": [
        {
          "output_type": "stream",
          "name": "stdout",
          "text": [
            "x is smaller than or equal to y.\n"
          ]
        }
      ]
    },
    {
      "cell_type": "code",
      "source": [
        "listdata = ['a', 'b', 'c']\n",
        "if 'a' in listdata:\n",
        "  print ('a가 listdata 안에 있습니다.')\n",
        "  print(listdata)\n"
      ],
      "metadata": {
        "id": "iS8myQoGAY1U",
        "outputId": "4faa0ef0-52a2-42f7-e46b-4f2131c6f3ad",
        "colab": {
          "base_uri": "https://localhost:8080/"
        }
      },
      "execution_count": 6,
      "outputs": [
        {
          "output_type": "stream",
          "name": "stdout",
          "text": [
            "a가 listdata 안에 있습니다.\n",
            "['a', 'b', 'c']\n"
          ]
        }
      ]
    },
    {
      "cell_type": "code",
      "source": [
        "listdata=['e','f','g']\n",
        "\n",
        "if 'e' in listdata:\n",
        "  print('e가 listdata 안에 있습니다. e is in listdata.')\n",
        "  print(listdata)"
      ],
      "metadata": {
        "id": "iAp5gwUr0T2J",
        "outputId": "fc9bc1ad-d204-40f3-c5cb-5a5f3f805d21",
        "colab": {
          "base_uri": "https://localhost:8080/"
        }
      },
      "execution_count": 8,
      "outputs": [
        {
          "output_type": "stream",
          "name": "stdout",
          "text": [
            "e가 listdata 안에 있습니다. e is in listdata.\n",
            "['e', 'f', 'g']\n"
          ]
        }
      ]
    },
    {
      "cell_type": "markdown",
      "source": [
        "## 🔍 <font color='purple'> Relating issues of if statements are evailable in chapters 09 ~ 10 of 파이썬 200제 ."
      ],
      "metadata": {
        "id": "4kbHc0C8Cn40"
      }
    }
  ]
}