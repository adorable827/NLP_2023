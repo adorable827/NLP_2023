{
  "nbformat": 4,
  "nbformat_minor": 0,
  "metadata": {
    "colab": {
      "provenance": [],
      "authorship_tag": "ABX9TyNYs4Z5cBBV7rYOG1YKy11X",
      "include_colab_link": true
    },
    "kernelspec": {
      "name": "python3",
      "display_name": "Python 3"
    },
    "language_info": {
      "name": "python"
    }
  },
  "cells": [
    {
      "cell_type": "markdown",
      "metadata": {
        "id": "view-in-github",
        "colab_type": "text"
      },
      "source": [
        "<a href=\"https://colab.research.google.com/github/adorable827/NLP_2023/blob/main/20231024.ipynb\" target=\"_parent\"><img src=\"https://colab.research.google.com/assets/colab-badge.svg\" alt=\"Open In Colab\"/></a>"
      ]
    },
    {
      "cell_type": "code",
      "execution_count": null,
      "metadata": {
        "id": "pu1CaO9U3HFg"
      },
      "outputs": [],
      "source": [
        "유행하는_게임 = [\n",
        "    \"리그 오브 레전드\",\n",
        "    \"배틀그라운드\",\n",
        "    \"마인크래프트\",\n",
        "    \"오버워치\",\n",
        "    \"플레이어 언노운스 배틀그라운즈\",\n",
        "    \"모바일 레전드\",\n",
        "    \"포트나이트\",\n",
        "    \"신세계사전\",\n",
        "    \"디아블로 2: 레저렉션\",\n",
        "]\n",
        "\n",
        "print(\"유행하는 게임 목록:\")\n",
        "for 게임 in 유행하는_게임:\n",
        "    print(게임)\n"
      ]
    }
  ]
}