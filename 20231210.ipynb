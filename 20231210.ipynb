{
  "nbformat": 4,
  "nbformat_minor": 0,
  "metadata": {
    "colab": {
      "provenance": [],
      "authorship_tag": "ABX9TyNQnFnMFmcHXbPcgnqu4LGx",
      "include_colab_link": true
    },
    "kernelspec": {
      "name": "python3",
      "display_name": "Python 3"
    },
    "language_info": {
      "name": "python"
    }
  },
  "cells": [
    {
      "cell_type": "markdown",
      "metadata": {
        "id": "view-in-github",
        "colab_type": "text"
      },
      "source": [
        "<a href=\"https://colab.research.google.com/github/adorable827/NLP_2023/blob/main/20231210.ipynb\" target=\"_parent\"><img src=\"https://colab.research.google.com/assets/colab-badge.svg\" alt=\"Open In Colab\"/></a>"
      ]
    },
    {
      "cell_type": "code",
      "execution_count": null,
      "metadata": {
        "id": "Z-1LARynXA4O"
      },
      "outputs": [],
      "source": [
        "import requests\n",
        "\n",
        "class 음악추천프로그램:\n",
        "    def __init__(self, api_key):\n",
        "        self.api_key = api_key\n",
        "\n",
        "    def 명령어_처리(self, 명령어):\n",
        "        if 명령어 == \"추천\":\n",
        "            self.음악_추천()\n",
        "        elif 명령어 == \"종료\":\n",
        "            print(\"음악 추천 프로그램을 종료합니다.\")\n",
        "            return False\n",
        "        else:\n",
        "            print(\"알 수 없는 명령어입니다. 다시 입력하세요.\")\n",
        "        return True\n",
        "\n",
        "    def 음악_추천(self):\n",
        "        print(\"음악 추천을 시작합니다. 몇 가지 질문에 답해주세요.\")\n",
        "        장르 = input(\"어떤 음악 장르를 선호하시나요? (예: 팝, 록, 힙합 등): \")\n",
        "        기분 = input(\"현재 기분은 어떤가요? (예: 신나는, 슬픈, 편안한 등): \")\n",
        "\n",
        "        url = f\"http://ws.audioscrobbler.com/2.0/?method=tag.gettoptracks&tag={장르}&api_key={self.api_key}&format=json\"\n",
        "        응답 = requests.get(url)\n",
        "\n",
        "        if 응답.status_code == 200:\n",
        "            음악목록 = 응답.json().get(\"tracks\", {}).get(\"track\", [])\n",
        "\n",
        "            if 음악목록:\n",
        "                추천음악 = [음악 for 음악 in 음악목록 if 기분.lower() in 음악.get(\"name\", \"\").lower()]\n",
        "                if 추천음악:\n",
        "                    print(\"\\n추천하는 음악 목록:\")\n",
        "                    for 음악 in 추천음악:\n",
        "                        제목 = 음악.get(\"name\", \"제목 없음\")\n",
        "                        아티스트 = 음악.get(\"artist\", {}).get(\"name\", \"아티스트 없음\")\n",
        "                        print(f\"{제목} - {아티스트}\")\n",
        "                else:\n",
        "                    print(f\"'{기분}'에 어울리는 '{장르}' 장르의 음악을 찾을 수 없습니다.\")\n",
        "            else:\n",
        "                print(f\"'{장르}' 장르의 음악을 찾을 수 없습니다.\")\n",
        "        else:\n",
        "            print(\"음악 정보 조회에 실패했습니다.\")\n",
        "\n",
        "def 음악추천프로그램실행(api_key):\n",
        "    프로그램_인스턴스 = 음악추천프로그램(api_key)\n",
        "    print(\"음악 추천 프로그램을 시작합니다. 명령어를 입력하세요.\")\n",
        "\n",
        "    while True:\n",
        "        명령어 = input(\"\\n(추천, 종료): \").lower()\n",
        "        결과 = 프로그램_인스턴스.명령어_처리(명령어)\n",
        "        if not 결과:\n",
        "            break\n",
        "\n",
        "api_key = \"your_last_fm_api_key\"\n",
        "\n",
        "음악추천프로그램실행(api_key)\n"
      ]
    }
  ]
}