{
  "nbformat": 4,
  "nbformat_minor": 0,
  "metadata": {
    "colab": {
      "provenance": [],
      "authorship_tag": "ABX9TyNRuP/f4p0oKJHO0qKEpZT3",
      "include_colab_link": true
    },
    "kernelspec": {
      "name": "python3",
      "display_name": "Python 3"
    },
    "language_info": {
      "name": "python"
    }
  },
  "cells": [
    {
      "cell_type": "markdown",
      "metadata": {
        "id": "view-in-github",
        "colab_type": "text"
      },
      "source": [
        "<a href=\"https://colab.research.google.com/github/adorable827/NLP_2023/blob/main/20230930.ipynb\" target=\"_parent\"><img src=\"https://colab.research.google.com/assets/colab-badge.svg\" alt=\"Open In Colab\"/></a>"
      ]
    },
    {
      "cell_type": "code",
      "execution_count": null,
      "metadata": {
        "id": "zTYHIvweQeO5"
      },
      "outputs": [],
      "source": [
        "def 소개_김연아():\n",
        "    이름 = \"김연아\"\n",
        "    출생년도 = 1990\n",
        "    국적 = \"대한민국\"\n",
        "    메달_수 = {\"금\": 2, \"은\": 1, \"동\": 0}\n",
        "    주요_업적 = [\"2010 밴쿠버 동계 올림픽 피겨스케이팅 금메달\",\n",
        "               \"2010 밴쿠버 동계 올림픽 피겨스케이팅 은메달\",\n",
        "               \"2009 세계 피겨스케이팅 챔피언십 금메달\"]\n",
        "\n",
        "    print(f\"이름: {이름}\")\n",
        "    print(f\"출생년도: {출생년도}\")\n",
        "    print(f\"국적: {국적}\")\n",
        "    print(f\"메달 수: 금 {메달_수['금']}개, 은 {메달_수['은']}개, 동 {메달_수['동']}개\")\n",
        "    print(\"주요 업적:\")\n",
        "    for 업적 in 주요_업적:\n",
        "        print(f\"- {업적}\")\n",
        "\n",
        "소개_김연아()\n"
      ]
    }
  ]
}