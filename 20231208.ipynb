{
  "nbformat": 4,
  "nbformat_minor": 0,
  "metadata": {
    "colab": {
      "provenance": [],
      "authorship_tag": "ABX9TyMsqTP1OYY4FN3ttnYHNVqZ",
      "include_colab_link": true
    },
    "kernelspec": {
      "name": "python3",
      "display_name": "Python 3"
    },
    "language_info": {
      "name": "python"
    }
  },
  "cells": [
    {
      "cell_type": "markdown",
      "metadata": {
        "id": "view-in-github",
        "colab_type": "text"
      },
      "source": [
        "<a href=\"https://colab.research.google.com/github/adorable827/NLP_2023/blob/main/20231208.ipynb\" target=\"_parent\"><img src=\"https://colab.research.google.com/assets/colab-badge.svg\" alt=\"Open In Colab\"/></a>"
      ]
    },
    {
      "cell_type": "code",
      "execution_count": null,
      "metadata": {
        "id": "FTHwJg3urwbC"
      },
      "outputs": [],
      "source": [
        "import requests\n",
        "\n",
        "class 영화추천프로그램:\n",
        "    def __init__(self, api_key):\n",
        "        self.api_key = api_key\n",
        "\n",
        "    def 명령어_처리(self, 명령어):\n",
        "        if 명령어 == \"추천\":\n",
        "            self.영화_추천()\n",
        "        elif 명령어 == \"종료\":\n",
        "            print(\"영화 추천 프로그램을 종료합니다.\")\n",
        "            return False\n",
        "        else:\n",
        "            print(\"알 수 없는 명령어입니다. 다시 입력하세요.\")\n",
        "        return True\n",
        "\n",
        "    def 영화_추천(self):\n",
        "        print(\"영화 추천을 시작합니다. 몇 가지 질문에 답해주세요.\")\n",
        "        장르 = input(\"어떤 장르의 영화를 원하시나요? (예: 액션, 로맨스, SF 등): \")\n",
        "        평점 = float(input(\"어떤 평점 이상의 영화를 원하시나요? (0.0 ~ 10.0): \"))\n",
        "\n",
        "        url = f\"http://www.omdbapi.com/?apikey={self.api_key}&s={장르}&type=movie\"\n",
        "        응답 = requests.get(url)\n",
        "\n",
        "        if 응답.status_code == 200:\n",
        "            영화목록 = 응답.json().get(\"Search\", [])\n",
        "\n",
        "            if 영화목록:\n",
        "                추천영화 = [영화 for 영화 in 영화목록 if float(영화.get(\"imdbRating\", 0)) >= 평점]\n",
        "                if 추천영화:\n",
        "                    print(\"\\n추천하는 영화 목록:\")\n",
        "                    for 영화 in 추천영화:\n",
        "                        제목 = 영화.get(\"Title\", \"제목 없음\")\n",
        "                        연도 = 영화.get(\"Year\", \"연도 없음\")\n",
        "                        평점 = 영화.get(\"imdbRating\", \"평점 없음\")\n",
        "                        print(f\"{제목} ({연도}), 평점: {평점}\")\n",
        "                else:\n",
        "                    print(f\"{평점} 이상의 평점을 가진 '{장르}' 장르의 영화를 찾을 수 없습니다.\")\n",
        "            else:\n",
        "                print(f\"'{장르}' 장르의 영화를 찾을 수 없습니다.\")\n",
        "        else:\n",
        "            print(\"영화 정보 조회에 실패했습니다.\")\n",
        "\n",
        "def 영화추천프로그램실행(api_key):\n",
        "    프로그램_인스턴스 = 영화추천프로그램(api_key)\n",
        "    print(\"영화 추천 프로그램을 시작합니다. 명령어를 입력하세요.\")\n",
        "\n",
        "    while True:\n",
        "        명령어 = input(\"\\n(추천, 종료): \").lower()\n",
        "        결과 = 프로그램_인스턴스.명령어_처리(명령어)\n",
        "        if not 결과:\n",
        "            break\n",
        "\n",
        "# OMDB API 키를 입력하세요.\n",
        "api_key = \"your_omdb_api_key\"\n",
        "\n",
        "영화추천프로그램실행(api_key)\n"
      ]
    }
  ]
}