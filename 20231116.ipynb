{
  "nbformat": 4,
  "nbformat_minor": 0,
  "metadata": {
    "colab": {
      "provenance": [],
      "authorship_tag": "ABX9TyNl1KrplEVUXXFJ+m+6T79O",
      "include_colab_link": true
    },
    "kernelspec": {
      "name": "python3",
      "display_name": "Python 3"
    },
    "language_info": {
      "name": "python"
    }
  },
  "cells": [
    {
      "cell_type": "markdown",
      "metadata": {
        "id": "view-in-github",
        "colab_type": "text"
      },
      "source": [
        "<a href=\"https://colab.research.google.com/github/adorable827/NLP_2023/blob/main/20231116.ipynb\" target=\"_parent\"><img src=\"https://colab.research.google.com/assets/colab-badge.svg\" alt=\"Open In Colab\"/></a>"
      ]
    },
    {
      "cell_type": "code",
      "execution_count": null,
      "metadata": {
        "id": "fXwiSdSpkKS7"
      },
      "outputs": [],
      "source": [
        "import random\n",
        "\n",
        "def 숫자맞추기게임():\n",
        "    정답 = random.randint(1, 100)\n",
        "    시도횟수 = 0\n",
        "\n",
        "    print(\"1에서 100까지의 숫자를 맞춰보세요!\")\n",
        "\n",
        "    while True:\n",
        "        try:\n",
        "            추측 = int(input(\"추측한 숫자를 입력하세요: \"))\n",
        "        except ValueError:\n",
        "            print(\"올바른 숫자를 입력하세요.\")\n",
        "            continue\n",
        "\n",
        "        시도횟수 += 1\n",
        "\n",
        "        if 추측 < 정답:\n",
        "            print(\"더 큰 숫자를 입력하세요.\")\n",
        "        elif 추측 > 정답:\n",
        "            print(\"더 작은 숫자를 입력하세요.\")\n",
        "        else:\n",
        "            print(f\"축하합니다! {정답}을(를) 맞추셨습니다. 시도 횟수: {시도횟수}\")\n",
        "            break\n",
        "\n",
        "숫자맞추기게임()\n"
      ]
    }
  ]
}