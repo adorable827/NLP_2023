{
  "nbformat": 4,
  "nbformat_minor": 0,
  "metadata": {
    "colab": {
      "provenance": [],
      "authorship_tag": "ABX9TyOlKoKTpF7Zz9BWagJCOWGw",
      "include_colab_link": true
    },
    "kernelspec": {
      "name": "python3",
      "display_name": "Python 3"
    },
    "language_info": {
      "name": "python"
    }
  },
  "cells": [
    {
      "cell_type": "markdown",
      "metadata": {
        "id": "view-in-github",
        "colab_type": "text"
      },
      "source": [
        "<a href=\"https://colab.research.google.com/github/adorable827/NLP_2023/blob/main/20231111.ipynb\" target=\"_parent\"><img src=\"https://colab.research.google.com/assets/colab-badge.svg\" alt=\"Open In Colab\"/></a>"
      ]
    },
    {
      "cell_type": "code",
      "execution_count": null,
      "metadata": {
        "id": "ZpGw_MX9g_oq"
      },
      "outputs": [],
      "source": [
        "def text_based_choice_game():\n",
        "    print(\"어느 나라로 여행을 갈까요?\")\n",
        "    print(\"1. 프랑스\")\n",
        "    print(\"2. 일본\")\n",
        "    print(\"3. 미국\")\n",
        "\n",
        "    user_choice = input(\"숫자를 입력하세요 (1, 2, 3): \")\n",
        "\n",
        "    if user_choice == \"1\":\n",
        "        print(\"프랑스로 여행을 떠납니다. 에펠탑과 세빌 대성당을 즐기세요!\")\n",
        "    elif user_choice == \"2\":\n",
        "        print(\"일본으로 여행을 떠납니다. 도쿄의 번화가와 경주의 사원을 즐겨보세요!\")\n",
        "    elif user_choice == \"3\":\n",
        "        print(\"미국으로 여행을 떠납니다. 뉴욕의 타임스퀘어와 샌프란시스코의 황금 게이트를 방문해보세요!\")\n",
        "    else:\n",
        "        print(\"잘못된 입력입니다. 1, 2, 3 중에서 선택하세요.\")\n",
        "\n",
        "text_based_choice_game()\n"
      ]
    }
  ]
}