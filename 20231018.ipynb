{
  "nbformat": 4,
  "nbformat_minor": 0,
  "metadata": {
    "colab": {
      "provenance": [],
      "authorship_tag": "ABX9TyN1nwfy4IcFt/f8SHfBgvkm",
      "include_colab_link": true
    },
    "kernelspec": {
      "name": "python3",
      "display_name": "Python 3"
    },
    "language_info": {
      "name": "python"
    }
  },
  "cells": [
    {
      "cell_type": "markdown",
      "metadata": {
        "id": "view-in-github",
        "colab_type": "text"
      },
      "source": [
        "<a href=\"https://colab.research.google.com/github/adorable827/NLP_2023/blob/main/20231018.ipynb\" target=\"_parent\"><img src=\"https://colab.research.google.com/assets/colab-badge.svg\" alt=\"Open In Colab\"/></a>"
      ]
    },
    {
      "cell_type": "code",
      "execution_count": null,
      "metadata": {
        "id": "3kIpbJBg3Cg1"
      },
      "outputs": [],
      "source": [
        "coco_characters = {\n",
        "    \"미구엘\": \"이야기의 주인공으로 음악을 좋아하는 소년\",\n",
        "    \"헥터\": \"미구엘의 증조할아버지로, 저승에서 살아있는 음악가\",\n",
        "    \"에르네스토 데 라 크룸\": \"유명한 음악가로 미구엘의 영감\",\n",
        "    \"인헤르니로\": \"미구엘의 증조할머니로, 가족을 위해 희생한 여성\",\n",
        "    \"아베루\": \"미구엘의 할머니로, 음악을 싫어하며 가족의 풍습을 중요하게 생각\",\n",
        "    \"코코\": \"미구엘의 증조할머니의 딸로, 미구엘을 이해하고 지원\",\n",
        "    \"체스퍼\": \"미구엘과 헥터의 친구로 유려한 목소리의 음악가\",\n",
        "}\n",
        "\n",
        "for character, description in coco_characters.items():\n",
        "    print(f\"{character}: {description}\")\n"
      ]
    }
  ]
}