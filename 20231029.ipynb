{
  "nbformat": 4,
  "nbformat_minor": 0,
  "metadata": {
    "colab": {
      "provenance": [],
      "authorship_tag": "ABX9TyNyhfzxpF2hWO5nW82BHBSf",
      "include_colab_link": true
    },
    "kernelspec": {
      "name": "python3",
      "display_name": "Python 3"
    },
    "language_info": {
      "name": "python"
    }
  },
  "cells": [
    {
      "cell_type": "markdown",
      "metadata": {
        "id": "view-in-github",
        "colab_type": "text"
      },
      "source": [
        "<a href=\"https://colab.research.google.com/github/adorable827/NLP_2023/blob/main/20231029.ipynb\" target=\"_parent\"><img src=\"https://colab.research.google.com/assets/colab-badge.svg\" alt=\"Open In Colab\"/></a>"
      ]
    },
    {
      "cell_type": "code",
      "execution_count": null,
      "metadata": {
        "id": "yOh8TI9X5hhx"
      },
      "outputs": [],
      "source": [
        "import turtle\n",
        "\n",
        "player = turtle.Turtle()\n",
        "player.shape(\"turtle\")\n",
        "player.color(\"blue\")\n",
        "player.speed(1)\n",
        "\n",
        "screen = turtle.Screen()\n",
        "screen.bgcolor(\"white\")\n",
        "screen.title(\"등산 게임\")\n",
        "\n",
        "def move_up():\n",
        "    y = player.ycor()\n",
        "    player.sety(y + 20)\n",
        "\n",
        "def move_down():\n",
        "    y = player.ycor()\n",
        "    player.sety(y - 20)\n",
        "\n",
        "screen.listen()\n",
        "screen.onkey(move_up, \"Up\")\n",
        "screen.onkey(move_down, \"Down\")\n",
        "\n",
        "while True:\n",
        "    pass\n",
        "\n",
        "turtle.done()\n"
      ]
    }
  ]
}