{
  "nbformat": 4,
  "nbformat_minor": 0,
  "metadata": {
    "colab": {
      "provenance": [],
      "authorship_tag": "ABX9TyOMqV1D0GP+anRefQXqyB0T",
      "include_colab_link": true
    },
    "kernelspec": {
      "name": "python3",
      "display_name": "Python 3"
    },
    "language_info": {
      "name": "python"
    }
  },
  "cells": [
    {
      "cell_type": "markdown",
      "metadata": {
        "id": "view-in-github",
        "colab_type": "text"
      },
      "source": [
        "<a href=\"https://colab.research.google.com/github/adorable827/NLP_2023/blob/main/20231213.ipynb\" target=\"_parent\"><img src=\"https://colab.research.google.com/assets/colab-badge.svg\" alt=\"Open In Colab\"/></a>"
      ]
    },
    {
      "cell_type": "code",
      "execution_count": null,
      "metadata": {
        "id": "wJ0IKcGfJqaN"
      },
      "outputs": [],
      "source": [
        "class 일기생성기:\n",
        "    def __init__(self):\n",
        "        self.날짜 = \"\"\n",
        "        self.감정 = \"\"\n",
        "\n",
        "    def 명령어_처리(self, 명령어):\n",
        "        if 명령어 == \"생성\":\n",
        "            self.일기_생성()\n",
        "        elif 명령어 == \"종료\":\n",
        "            print(\"일기 생성기를 종료합니다.\")\n",
        "            return False\n",
        "        else:\n",
        "            print(\"알 수 없는 명령어입니다. 다시 입력하세요.\")\n",
        "        return True\n",
        "\n",
        "    def 일기_생성(self):\n",
        "        self.날짜 = input(\"일기를 작성할 날짜를 입력하세요 (예: 2023-12-01): \")\n",
        "        self.감정 = input(\"오늘의 감정을 입력하세요: \")\n",
        "\n",
        "        print(\"\\n일기 내용:\")\n",
        "        print(f\"오늘은 {self.날짜}일, {self.감정}한 날씨였습니다.\")\n",
        "        print(\"하루를 시작하는데,\")\n",
        "        print(\"_________________________________\")\n",
        "        print(\"\\n(일기 내용을 추가하세요.)\\n\")\n",
        "        print(\"_________________________________\")\n",
        "        print(\"\\n하루를 마무리하며,\")\n",
        "        print(\"오늘의 감정을 정리하고 무엇을 느꼈는지 기록했습니다.\")\n",
        "\n",
        "def 일기생성기실행():\n",
        "    생성기_인스턴스 = 일기생성기()\n",
        "    print(\"일기 생성기를 시작합니다. 명령어를 입력하세요.\")\n",
        "\n",
        "    while True:\n",
        "        명령어 = input(\"\\n(생성, 종료): \").lower()\n",
        "        결과 = 생성기_인스턴스.명령어_처리(명령어)\n",
        "        if not 결과:\n",
        "            break\n",
        "\n",
        "일기생성기실행()\n"
      ]
    }
  ]
}