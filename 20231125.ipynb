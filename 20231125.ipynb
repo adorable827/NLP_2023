{
  "nbformat": 4,
  "nbformat_minor": 0,
  "metadata": {
    "colab": {
      "provenance": [],
      "authorship_tag": "ABX9TyMtknHCt+BFOQcu1vvIg8EM",
      "include_colab_link": true
    },
    "kernelspec": {
      "name": "python3",
      "display_name": "Python 3"
    },
    "language_info": {
      "name": "python"
    }
  },
  "cells": [
    {
      "cell_type": "markdown",
      "metadata": {
        "id": "view-in-github",
        "colab_type": "text"
      },
      "source": [
        "<a href=\"https://colab.research.google.com/github/adorable827/NLP_2023/blob/main/20231125.ipynb\" target=\"_parent\"><img src=\"https://colab.research.google.com/assets/colab-badge.svg\" alt=\"Open In Colab\"/></a>"
      ]
    },
    {
      "cell_type": "code",
      "execution_count": null,
      "metadata": {
        "id": "s6YE5uOE6CVl"
      },
      "outputs": [],
      "source": [
        "def 계산기():\n",
        "    while True:\n",
        "        try:\n",
        "            숫자1 = float(input(\"첫 번째 숫자를 입력하세요: \"))\n",
        "            연산자 = input(\"연산자를 입력하세요 (+, -, *, /): \")\n",
        "            숫자2 = float(input(\"두 번째 숫자를 입력하세요: \"))\n",
        "        except ValueError:\n",
        "            print(\"숫자를 정확히 입력하세요.\")\n",
        "            continue\n",
        "\n",
        "        if 연산자 in ['+', '-', '*', '/']:\n",
        "            if 연산자 == '+':\n",
        "                결과 = 숫자1 + 숫자2\n",
        "            elif 연산자 == '-':\n",
        "                결과 = 숫자1 - 숫자2\n",
        "            elif 연산자 == '*':\n",
        "                결과 = 숫자1 * 숫자2\n",
        "            elif 연산자 == '/':\n",
        "                if 숫자2 != 0:\n",
        "                    결과 = 숫자1 / 숫자2\n",
        "                else:\n",
        "                    print(\"0으로 나눌 수 없습니다. 다시 시도하세요.\")\n",
        "                    continue\n",
        "\n",
        "            print(f\"결과: {결과}\")\n",
        "\n",
        "            계속할지 = input(\"다시 계산하시겠습니까? (Y/N): \").upper()\n",
        "            if 계속할지 != 'Y':\n",
        "                print(\"계산기를 종료합니다.\")\n",
        "                break\n",
        "        else:\n",
        "            print(\"올바른 연산자를 입력하세요.\")\n",
        "\n",
        "계산기()\n"
      ]
    }
  ]
}