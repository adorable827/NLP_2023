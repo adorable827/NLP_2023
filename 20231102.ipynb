{
  "nbformat": 4,
  "nbformat_minor": 0,
  "metadata": {
    "colab": {
      "provenance": [],
      "authorship_tag": "ABX9TyMTZ3ewQ4mOikg0DASNTpiu",
      "include_colab_link": true
    },
    "kernelspec": {
      "name": "python3",
      "display_name": "Python 3"
    },
    "language_info": {
      "name": "python"
    }
  },
  "cells": [
    {
      "cell_type": "markdown",
      "metadata": {
        "id": "view-in-github",
        "colab_type": "text"
      },
      "source": [
        "<a href=\"https://colab.research.google.com/github/adorable827/NLP_2023/blob/main/20231102.ipynb\" target=\"_parent\"><img src=\"https://colab.research.google.com/assets/colab-badge.svg\" alt=\"Open In Colab\"/></a>"
      ]
    },
    {
      "cell_type": "code",
      "execution_count": null,
      "metadata": {
        "id": "aKn6DbNCitYB"
      },
      "outputs": [],
      "source": [
        "highlight_songs = [\n",
        "    \"비가 오는 날엔 (On Rainy Days)\",\n",
        "    \"Fiction\",\n",
        "    \"얼굴 찌푸리지 말아요 (Don't Frown)\",\n",
        "    \"12:30\",\n",
        "    \"아름답다 (Beautiful Night)\",\n",
        "    \"얼굴 찌푸리지 말아요 (Don't Frown)\",\n",
        "    \"Shadow\",\n",
        "    \"아름다워 (It's Still Beautiful)\",\n",
        "    \"얼굴 찌푸리지 말아요 (Don't Frown)\",\n",
        "    \"하얀 고백 (White Night)\",\n",
        "    \"얼굴 찌푸리지 말아요 (Don't Frown)\",\n",
        "]\n",
        "\n",
        "print(highlight_songs)\n"
      ]
    }
  ]
}