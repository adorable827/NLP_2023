{
  "nbformat": 4,
  "nbformat_minor": 0,
  "metadata": {
    "colab": {
      "provenance": [],
      "authorship_tag": "ABX9TyOuDniX467u/xMtc/Lcl1pG",
      "include_colab_link": true
    },
    "kernelspec": {
      "name": "python3",
      "display_name": "Python 3"
    },
    "language_info": {
      "name": "python"
    }
  },
  "cells": [
    {
      "cell_type": "markdown",
      "metadata": {
        "id": "view-in-github",
        "colab_type": "text"
      },
      "source": [
        "<a href=\"https://colab.research.google.com/github/adorable827/NLP_2023/blob/main/20231103.ipynb\" target=\"_parent\"><img src=\"https://colab.research.google.com/assets/colab-badge.svg\" alt=\"Open In Colab\"/></a>"
      ]
    },
    {
      "cell_type": "code",
      "execution_count": null,
      "metadata": {
        "id": "ORJx9qIVTSIh"
      },
      "outputs": [],
      "source": [
        "# 구름의 종류를 파이썬으로 정리\n",
        "def 구름_종류(형태, 높이):\n",
        "    if 형태 == \"쿠마꼬치\":\n",
        "        return \"낮은 고도의 구름입니다.\"\n",
        "    elif 형태 == \"쿠마\":\n",
        "        if 높이 < 2000:\n",
        "            return \"낮은 고도의 구름입니다.\"\n",
        "        elif 높이 < 6000:\n",
        "            return \"중간 고도의 구름입니다.\"\n",
        "        else:\n",
        "            return \"높은 고도의 구름입니다.\"\n",
        "    elif 형태 == \"쿠마무토\":\n",
        "        if 높이 < 2000:\n",
        "            return \"낮은 고도의 구름입니다.\"\n",
        "        elif 높이 < 6000:\n",
        "            return \"중간 고도의 구름입니다.\"\n",
        "        else:\n",
        "            return \"높은 고도의 구름입니다.\"\n",
        "    elif 형태 == \"적운\":\n",
        "        return \"높은 고도의 구름입니다.\"\n",
        "    elif 형태 == \"천장운\":\n",
        "        return \"매우 높은 고도의 구름입니다.\"\n",
        "    elif 형태 == \"적운\":\n",
        "        return \"높은 고도의 구름입니다.\"\n",
        "    else:\n",
        "        return \"알 수 없는 구름입니다.\"\n",
        "\n",
        "형태 = \"쿠마\"\n",
        "높이 = 3000  # 미터\n",
        "구름 = 구름_종류(형태, 높이)\n",
        "print(f\"{형태} 구름은 {구름}\")\n"
      ]
    }
  ]
}