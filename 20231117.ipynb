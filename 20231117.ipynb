{
  "nbformat": 4,
  "nbformat_minor": 0,
  "metadata": {
    "colab": {
      "provenance": [],
      "authorship_tag": "ABX9TyMoYx6xe4aRMLIIgkPIgWNK",
      "include_colab_link": true
    },
    "kernelspec": {
      "name": "python3",
      "display_name": "Python 3"
    },
    "language_info": {
      "name": "python"
    }
  },
  "cells": [
    {
      "cell_type": "markdown",
      "metadata": {
        "id": "view-in-github",
        "colab_type": "text"
      },
      "source": [
        "<a href=\"https://colab.research.google.com/github/adorable827/NLP_2023/blob/main/20231117.ipynb\" target=\"_parent\"><img src=\"https://colab.research.google.com/assets/colab-badge.svg\" alt=\"Open In Colab\"/></a>"
      ]
    },
    {
      "cell_type": "code",
      "execution_count": null,
      "metadata": {
        "id": "sZO00W0LFjBO"
      },
      "outputs": [],
      "source": [
        "import random\n",
        "\n",
        "def 블랙잭게임():\n",
        "    def 카드_생성():\n",
        "        카드무늬 = ['하트', '다이아몬드', '스페이드', '클럽']\n",
        "        카드종류 = ['2', '3', '4', '5', '6', '7', '8', '9', '10', 'J', 'Q', 'K', 'A']\n",
        "        카드덱 = [{'무늬': 무늬, '종류': 종류} for 무늬 in 카드무늬 for 종류 in 카드종류]\n",
        "        random.shuffle(카드덱)\n",
        "        return 카드덱\n",
        "\n",
        "    def 카드_점수(카드들):\n",
        "        점수 = 0\n",
        "        에이스_카운트 = 0\n",
        "\n",
        "        for 카드 in 카드들:\n",
        "            if 카드['종류'].isdigit():\n",
        "                점수 += int(카드['종류'])\n",
        "            elif 카드['종류'] in ['J', 'Q', 'K']:\n",
        "                점수 += 10\n",
        "            elif 카드['종류'] == 'A':\n",
        "                점수 += 11\n",
        "                에이스_카운트 += 1\n",
        "\n",
        "        while 점수 > 21 and 에이스_카운트:\n",
        "            점수 -= 10\n",
        "            에이스_카운트 -= 1\n",
        "\n",
        "        return 점수\n",
        "\n",
        "    def 카드_출력(카드들):\n",
        "        for 카드 in 카드들:\n",
        "            print(f\"{카드['무늬']} {카드['종류']}\", end=' ')\n",
        "        print()\n",
        "\n",
        "    def 게임_결과(플레이어_카드, 딜러_카드):\n",
        "        플레이어_점수 = 카드_점수(플레이어_카드)\n",
        "        딜러_점수 = 카드_점수(딜러_카드)\n",
        "\n",
        "        print(\"\\n--- 결과 ---\")\n",
        "        print(\"플레이어의 카드:\")\n",
        "        카드_출력(플레이어_카드)\n",
        "        print(f\"플레이어의 점수: {플레이어_점수}\")\n",
        "\n",
        "        print(\"\\n딜러의 카드:\")\n",
        "        카드_출력(딜러_카드)\n",
        "        print(f\"딜러의 점수: {딜러_점수}\")\n",
        "\n",
        "        if 플레이어_점수 > 21:\n",
        "            print(\"플레이어가 버스트로 패배하였습니다.\")\n",
        "        elif 딜러_점수 > 21 or 플레이어_점수 > 딜러_점수:\n",
        "            print(\"플레이어가 이겼습니다! 축하합니다.\")\n",
        "        elif 플레이어_점수 < 딜러_점수:\n",
        "            print(\"플레이어가 패배하였습니다. 다음 기회에 도전해보세요.\")\n",
        "        else:\n",
        "            print(\"무승부입니다. 다시 도전해보세요.\")\n",
        "\n",
        "    def 블랙잭_게임():\n",
        "        카드덱 = 카드_생성()\n",
        "        플레이어_카드 = [카드덱.pop(), 카드덱.pop()]\n",
        "        딜러_카드 = [카드덱.pop(), 카드덱.pop()]\n",
        "\n",
        "        print(\"블랙잭 게임을 시작합니다!\")\n",
        "\n",
        "        while True:\n",
        "            print(\"\\n--- 현재 상태 ---\")\n",
        "            print(\"플레이어의 카드:\")\n",
        "            카드_출력(플레이어_카드)\n",
        "            print(\"딜러의 첫 번째 카드:\")\n",
        "            카드_출력([딜러_카드[0]])\n",
        "\n",
        "            if 카드_점수(플레이어_카드) == 21:\n",
        "                print(\"블랙잭! 플레이어의 승리입니다.\")\n",
        "                break\n",
        "\n",
        "            선택 = input(\"카드를 더 받으시겠습니까? (Y/N): \").upper()\n",
        "            if 선택 == 'Y':\n",
        "                플레이어_카드.append(카드덱.pop())\n",
        "                if 카드_점수(플레이어_카드) > 21:\n",
        "                    print(\"플레이어가 버스트로 패배하였습니다.\")\n",
        "                    break\n",
        "            else:\n",
        "                while 카드_점수(딜러_카드) < 17:\n",
        "                    딜러_카드.append(카드덱.pop())\n",
        "                게임_결과(플레이어_카드, 딜러_카드)\n",
        "                break\n",
        "\n",
        "    블랙잭_게임()\n",
        "\n",
        "블랙잭게임()\n"
      ]
    }
  ]
}