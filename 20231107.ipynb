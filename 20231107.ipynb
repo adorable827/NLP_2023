{
  "nbformat": 4,
  "nbformat_minor": 0,
  "metadata": {
    "colab": {
      "provenance": [],
      "authorship_tag": "ABX9TyPUFeXMCfo+0SeWwpCv++As",
      "include_colab_link": true
    },
    "kernelspec": {
      "name": "python3",
      "display_name": "Python 3"
    },
    "language_info": {
      "name": "python"
    }
  },
  "cells": [
    {
      "cell_type": "markdown",
      "metadata": {
        "id": "view-in-github",
        "colab_type": "text"
      },
      "source": [
        "<a href=\"https://colab.research.google.com/github/adorable827/NLP_2023/blob/main/20231107.ipynb\" target=\"_parent\"><img src=\"https://colab.research.google.com/assets/colab-badge.svg\" alt=\"Open In Colab\"/></a>"
      ]
    },
    {
      "cell_type": "code",
      "execution_count": null,
      "metadata": {
        "id": "nRaDUkVm8i1m"
      },
      "outputs": [],
      "source": [
        "iu_노래 = [\n",
        "    \"좋은 날\",\n",
        "    \"팔레트\",\n",
        "    \"블루밍\",\n",
        "    \"스물셋\",\n",
        "    \"러브 포엠\",\n",
        "    \"삐삐\",\n",
        "    \"유앤아이\",\n",
        "    \"금요일에 만나요\",\n",
        "    \"가을 아침\",\n",
        "    \"밤편지\",\n",
        "    \"봄 사랑 벚꽃 말고 (HIGH4와 함께)\",\n",
        "    \"레옹\",\n",
        "    \"잔혹동화\",\n",
        "    \"분홍신\",\n",
        "    \"어떤 사람\",\n",
        "    \"그 사람\",\n",
        "    \"블랙아웃\",\n",
        "    \"초록창가\",\n",
        "    \"가시꽃\",\n",
        "]\n",
        "\n",
        "# 아이유의 대표 곡 목록 출력\n",
        "for 노래 in iu_노래:\n",
        "    print(노래)\n"
      ]
    }
  ]
}