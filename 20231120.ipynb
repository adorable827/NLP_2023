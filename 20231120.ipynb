{
  "nbformat": 4,
  "nbformat_minor": 0,
  "metadata": {
    "colab": {
      "provenance": [],
      "authorship_tag": "ABX9TyPk75wB95I0xRXvSXpXowBd",
      "include_colab_link": true
    },
    "kernelspec": {
      "name": "python3",
      "display_name": "Python 3"
    },
    "language_info": {
      "name": "python"
    }
  },
  "cells": [
    {
      "cell_type": "markdown",
      "metadata": {
        "id": "view-in-github",
        "colab_type": "text"
      },
      "source": [
        "<a href=\"https://colab.research.google.com/github/adorable827/NLP_2023/blob/main/20231120.ipynb\" target=\"_parent\"><img src=\"https://colab.research.google.com/assets/colab-badge.svg\" alt=\"Open In Colab\"/></a>"
      ]
    },
    {
      "cell_type": "code",
      "execution_count": null,
      "metadata": {
        "id": "J-alfrFNVaK0"
      },
      "outputs": [],
      "source": [
        "import random\n",
        "\n",
        "def 숫자퍼즐게임():\n",
        "    def 생성_퍼즐():\n",
        "        퍼즐 = [[0] * 4 for _ in range(4)]\n",
        "        숫자 = list(range(1, 16))\n",
        "        random.shuffle(숫자)\n",
        "\n",
        "        for i in range(4):\n",
        "            for j in range(4):\n",
        "                퍼즐[i][j] = 숫자.pop()\n",
        "\n",
        "        return 퍼즐\n",
        "\n",
        "    def 퍼즐_출력(퍼즐):\n",
        "        for 행 in 퍼즐:\n",
        "            print(\" \".join(str(숫자) if 숫자 != 16 else \" \" for 숫자 in 행))\n",
        "\n",
        "    def 이동_가능한_위치(퍼즐):\n",
        "        빈칸_위치 = 찾기(퍼즐, 16)\n",
        "        이동_가능한_위치들 = []\n",
        "\n",
        "        for 이동 in [(-1, 0), (1, 0), (0, -1), (0, 1)]:\n",
        "            새로운_위치 = (빈칸_위치[0] + 이동[0], 빈칸_위치[1] + 이동[1])\n",
        "            if 0 <= 새로운_위치[0] < 4 and 0 <= 새로운_위치[1] < 4:\n",
        "                이동_가능한_위치들.append(새로운_위치)\n",
        "\n",
        "        return 이동_가능한_위치들\n",
        "\n",
        "    def 이동(퍼즐, 이동할_위치):\n",
        "        빈칸_위치 = 찾기(퍼즐, 16)\n",
        "        이동할_숫자 = 퍼즐[이동할_위치[0]][이동할_위치[1]]\n",
        "\n",
        "        퍼즐[빈칸_위치[0]][빈칸_위치[1]] = 이동할_숫자\n",
        "        퍼즐[이동할_위치[0]][이동할_위치[1]] = 16\n",
        "\n",
        "    def 찾기(퍼즐, 숫자):\n",
        "        for i in range(4):\n",
        "            for j in range(4):\n",
        "                if 퍼즐[i][j] == 숫자:\n",
        "                    return (i, j)\n",
        "\n",
        "    def 이긴_검사(퍼즐):\n",
        "        정답 = [[1, 2, 3, 4], [5, 6, 7, 8], [9, 10, 11, 12], [13, 14, 15, 16]]\n",
        "\n",
        "        return 퍼즐 == 정답\n",
        "\n",
        "    퍼즐 = 생성_퍼즐()\n",
        "\n",
        "    print(\"숫자 퍼즐 게임을 시작합니다!\")\n",
        "    이동횟수 = 0\n",
        "\n",
        "    while not 이긴_검사(퍼즐):\n",
        "        퍼즐_출력(퍼즐)\n",
        "        이동가능_위치들 = 이동_가능한_위치(퍼즐)\n",
        "        print(f\"이동 가능한 위치: {이동가능_위치들}\")\n",
        "\n",
        "        try:\n",
        "            선택 = int(input(\"이동할 숫자를 선택하세요 (1~15): \"))\n",
        "        except ValueError:\n",
        "            print(\"숫자를 입력하세요.\")\n",
        "            continue\n",
        "\n",
        "        if 선택 not in range(1, 16):\n",
        "            print(\"1에서 15 사이의 숫자를 선택하세요.\")\n",
        "            continue\n",
        "\n",
        "        선택_위치 = 찾기(퍼즐, 선택)\n",
        "        if 선택_위치 in 이동가능_위치들:\n",
        "            이동(퍼즐, 선택_위치)\n",
        "            이동횟수 += 1\n",
        "        else:\n",
        "            print(\"이동할 수 없는 위치입니다. 다시 선택하세요.\")\n",
        "\n",
        "    퍼즐_출력(퍼즐)\n",
        "    print(f\"축하합니다! 퍼즐을 완성했습니다. 이동 횟수: {이동횟수}\")\n",
        "\n",
        "숫자퍼즐게임()\n"
      ]
    }
  ]
}