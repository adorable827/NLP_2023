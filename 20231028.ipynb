{
  "nbformat": 4,
  "nbformat_minor": 0,
  "metadata": {
    "colab": {
      "provenance": [],
      "authorship_tag": "ABX9TyMnrsgYiDJ55m6MFzh4pcWm",
      "include_colab_link": true
    },
    "kernelspec": {
      "name": "python3",
      "display_name": "Python 3"
    },
    "language_info": {
      "name": "python"
    }
  },
  "cells": [
    {
      "cell_type": "markdown",
      "metadata": {
        "id": "view-in-github",
        "colab_type": "text"
      },
      "source": [
        "<a href=\"https://colab.research.google.com/github/adorable827/NLP_2023/blob/main/20231028.ipynb\" target=\"_parent\"><img src=\"https://colab.research.google.com/assets/colab-badge.svg\" alt=\"Open In Colab\"/></a>"
      ]
    },
    {
      "cell_type": "code",
      "execution_count": null,
      "metadata": {
        "id": "sKUJYAqYFb0j"
      },
      "outputs": [],
      "source": []
    },
    {
      "cell_type": "code",
      "source": [
        "import random\n",
        "\n",
        "def 가위바위보_게임():\n",
        "    선택지 = [\"가위\", \"바위\", \"보\"]\n",
        "\n",
        "    while True:\n",
        "        플레이어_선택 = input(\"가위, 바위, 보 중 하나를 선택하세요: \").strip()\n",
        "        if 플레이어_선택 not in 선택지:\n",
        "            print(\"올바른 선택지를 입력하세요.\")\n",
        "            continue\n",
        "\n",
        "        컴퓨터_선택 = random.choice(선택지)\n",
        "\n",
        "        print(f\"플레이어: {플레이어_선택}, 컴퓨터: {컴퓨터_선택}\")\n",
        "\n",
        "        if 플레이어_선택 == 컴퓨터_선택:\n",
        "            print(\"비겼습니다!\")\n",
        "        elif (플레이어_선택 == \"가위\" and 컴퓨터_선택 == \"보\") or \\\n",
        "             (플레이어_선택 == \"바위\" and 컴퓨터_선택 == \"가위\") or \\\n",
        "             (플레이어_선택 == \"보\" and 컴퓨터_선택 == \"바위\"):\n",
        "            print(\"플레이어 승리!\")\n",
        "        else:\n",
        "            print(\"컴퓨터 승리!\")\n",
        "\n",
        "        다시하기 = input(\"다시 가위바위보를 하시겠습니까? (yes/no): \").strip()\n",
        "        if 다시하기.lower() != \"yes\":\n",
        "            break\n",
        "\n",
        "가위바위보_게임()\n"
      ],
      "metadata": {
        "id": "aQZolAMoewrs"
      },
      "execution_count": null,
      "outputs": []
    }
  ]
}