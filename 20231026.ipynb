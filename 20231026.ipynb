{
  "nbformat": 4,
  "nbformat_minor": 0,
  "metadata": {
    "colab": {
      "provenance": [],
      "authorship_tag": "ABX9TyOfQEBoyAQ14N3/u3R6FTMe",
      "include_colab_link": true
    },
    "kernelspec": {
      "name": "python3",
      "display_name": "Python 3"
    },
    "language_info": {
      "name": "python"
    }
  },
  "cells": [
    {
      "cell_type": "markdown",
      "metadata": {
        "id": "view-in-github",
        "colab_type": "text"
      },
      "source": [
        "<a href=\"https://colab.research.google.com/github/adorable827/NLP_2023/blob/main/20231026.ipynb\" target=\"_parent\"><img src=\"https://colab.research.google.com/assets/colab-badge.svg\" alt=\"Open In Colab\"/></a>"
      ]
    },
    {
      "cell_type": "code",
      "execution_count": null,
      "metadata": {
        "id": "HASIq-aPuO5r"
      },
      "outputs": [],
      "source": [
        "import random\n",
        "\n",
        "secret_number = random.randint(1, 100)\n",
        "\n",
        "attempts = 0\n",
        "\n",
        "print(\"1부터 100 사이의 숫자를 맞춰보세요!\")\n",
        "\n",
        "while True:\n",
        "    try:\n",
        "        guess = int(input(\"추측한 숫자를 입력하세요: \"))\n",
        "        attempts += 1\n",
        "\n",
        "        if guess < secret_number:\n",
        "            print(\"너무 작아요. 다시 시도해보세요.\")\n",
        "        elif guess > secret_number:\n",
        "            print(\"너무 크아요. 다시 시도해보세요.\")\n",
        "        else:\n",
        "            print(f\"축하합니다! {secret_number}를 {attempts}번 만에 맞추셨어요!\")\n",
        "            break\n",
        "    except ValueError:\n",
        "        print(\"올바른 숫자를 입력하세요.\")\n",
        "\n",
        "print(\"게임 종료\")\n"
      ]
    }
  ]
}