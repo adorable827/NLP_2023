{
  "nbformat": 4,
  "nbformat_minor": 0,
  "metadata": {
    "colab": {
      "provenance": [],
      "authorship_tag": "ABX9TyPtJdu0GqO+LQqqDAEDGp9r",
      "include_colab_link": true
    },
    "kernelspec": {
      "name": "python3",
      "display_name": "Python 3"
    },
    "language_info": {
      "name": "python"
    }
  },
  "cells": [
    {
      "cell_type": "markdown",
      "metadata": {
        "id": "view-in-github",
        "colab_type": "text"
      },
      "source": [
        "<a href=\"https://colab.research.google.com/github/adorable827/NLP_2023/blob/main/20231027_%ED%86%A0%EB%81%BC%EC%99%80%EA%B1%B0%EB%B6%81%EC%9D%B4_%EA%B2%BD%EC%A3%BC%EA%B2%8C%EC%9E%84.ipynb\" target=\"_parent\"><img src=\"https://colab.research.google.com/assets/colab-badge.svg\" alt=\"Open In Colab\"/></a>"
      ]
    },
    {
      "cell_type": "code",
      "execution_count": null,
      "metadata": {
        "id": "740QF8o-UySk"
      },
      "outputs": [],
      "source": [
        "import turtle\n",
        "import random\n",
        "\n",
        "t = turtle.Turtle()\n",
        "t.shape(\"turtle\")\n",
        "\n",
        "rabbit = turtle.Turtle()\n",
        "rabbit.shape(\"turtle\")\n",
        "rabbit.color(\"red\")\n",
        "\n",
        "t.penup()\n",
        "t.goto(-200, 0)\n",
        "t.pendown()\n",
        "t.goto(-200, 100)\n",
        "t.hideturtle()\n",
        "\n",
        "def race():\n",
        "    while t.xcor() < 200 and rabbit.xcor() < 200:\n",
        "        t_speed = random.randint(1, 5)\n",
        "        rabbit_speed = random.randint(1, 5)\n",
        "        t.forward(t_speed)\n",
        "        rabbit.forward(rabbit_speed)\n",
        "\n",
        "    if t.xcor() > rabbit.xcor():\n",
        "        t.goto(0, 50)\n",
        "        t.write(\"거북이 승리!\", align=\"center\", font=(\"Arial\", 24, \"normal\"))\n",
        "    else:\n",
        "        rabbit.goto(0, 50)\n",
        "        rabbit.write(\"토끼 승리!\", align=\"center\", font=(\"Arial\", 24, \"normal\"))\n",
        "\n",
        "race()\n",
        "\n",
        "turtle.exitonclick()\n"
      ]
    }
  ]
}