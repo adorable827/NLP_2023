{
  "nbformat": 4,
  "nbformat_minor": 0,
  "metadata": {
    "colab": {
      "provenance": [],
      "authorship_tag": "ABX9TyOXl75w12a/Uz7g2XUG9vlO",
      "include_colab_link": true
    },
    "kernelspec": {
      "name": "python3",
      "display_name": "Python 3"
    },
    "language_info": {
      "name": "python"
    }
  },
  "cells": [
    {
      "cell_type": "markdown",
      "metadata": {
        "id": "view-in-github",
        "colab_type": "text"
      },
      "source": [
        "<a href=\"https://colab.research.google.com/github/adorable827/NLP_2023/blob/main/20231109.ipynb\" target=\"_parent\"><img src=\"https://colab.research.google.com/assets/colab-badge.svg\" alt=\"Open In Colab\"/></a>"
      ]
    },
    {
      "cell_type": "code",
      "execution_count": null,
      "metadata": {
        "id": "Wd4nu4AiMjOy"
      },
      "outputs": [],
      "source": [
        "import random\n",
        "import curses\n",
        "\n",
        "s = curses.initscr()\n",
        "curses.curs_set(0)\n",
        "sh, sw = s.getmaxyx()\n",
        "w = s.subwin(sh, sw, 0, 0)\n",
        "w.keypad(1)\n",
        "w.timeout(100)\n",
        "\n",
        "snk_x = sw//4\n",
        "snk_y = sh//2\n",
        "snake = [\n",
        "    [snk_y, snk_x],\n",
        "    [snk_y, snk_x-1],\n",
        "    [snk_y, snk_x-2]\n",
        "]\n",
        "\n",
        "food = [sh//2, sw//2]\n",
        "w.addch(int(food[0]), int(food[1]), curses.ACS_PI)\n",
        "\n",
        "key = curses.KEY_RIGHT\n",
        "\n",
        "while True:\n",
        "    next_key = w.getch()\n",
        "    key = key if next_key == -1 else next_key\n",
        "\n",
        "    if snake[0][0] in [0, sh] or snake[0][1] in [0, sw] or snake[0] in snake[1:]:\n",
        "        curses.endwin()\n",
        "        quit()\n",
        "\n",
        "    new_head = [snake[0][0], snake[0][1]]\n",
        "\n",
        "    if key == curses.KEY_DOWN:\n",
        "        new_head[0] += 1\n",
        "    if key == curses.KEY_UP:\n",
        "        new_head[0] -= 1\n",
        "    if key == curses.KEY_LEFT:\n",
        "        new_head[1] -= 1\n",
        "    if key == curses.KEY_RIGHT:\n",
        "        new_head[1] += 1\n",
        "\n",
        "    snake.insert(0, new_head)\n",
        "\n",
        "    if snake[0] == food:\n",
        "        food = None\n",
        "        while food is None:\n",
        "            nf = [\n",
        "                random.randint(1, sh-1),\n",
        "                random.randint(1, sw-1)\n",
        "            ]\n",
        "            food = nf if nf not in snake else None\n",
        "        w.addch(food[0], food[1], curses.ACS_PI)\n",
        "    else:\n",
        "        tail = snake.pop()\n",
        "        w.addch(int(tail[0]), int(tail[1]), ' ')\n",
        "\n",
        "    w.addch(int(snake[0][0]), int(snake[0][1]), curses.ACS_CKBOARD)\n"
      ]
    }
  ]
}