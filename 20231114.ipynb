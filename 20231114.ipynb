{
  "nbformat": 4,
  "nbformat_minor": 0,
  "metadata": {
    "colab": {
      "provenance": [],
      "authorship_tag": "ABX9TyP3UNeHq6XYcTc+C7gYiaVx",
      "include_colab_link": true
    },
    "kernelspec": {
      "name": "python3",
      "display_name": "Python 3"
    },
    "language_info": {
      "name": "python"
    }
  },
  "cells": [
    {
      "cell_type": "markdown",
      "metadata": {
        "id": "view-in-github",
        "colab_type": "text"
      },
      "source": [
        "<a href=\"https://colab.research.google.com/github/adorable827/NLP_2023/blob/main/20231114.ipynb\" target=\"_parent\"><img src=\"https://colab.research.google.com/assets/colab-badge.svg\" alt=\"Open In Colab\"/></a>"
      ]
    },
    {
      "cell_type": "code",
      "execution_count": null,
      "metadata": {
        "id": "xaV8NYbTFFb9"
      },
      "outputs": [],
      "source": [
        "def 틱택토게임():\n",
        "    보드 = [' '] * 9\n",
        "    현재_플레이어 = 'X'\n",
        "\n",
        "    def 그리기():\n",
        "        print(f\"\"\"\n",
        "        {보드[0]} | {보드[1]} | {보드[2]}\n",
        "        ---------\n",
        "        {보드[3]} | {보드[4]} | {보드[5]}\n",
        "        ---------\n",
        "        {보드[6]} | {보드[7]} | {보드[8]}\n",
        "        \"\"\")\n",
        "\n",
        "    def 이긴_검사():\n",
        "        lines = [(0, 1, 2), (3, 4, 5), (6, 7, 8), (0, 3, 6), (1, 4, 7), (2, 5, 8), (0, 4, 8), (2, 4, 6)]\n",
        "        for line in lines:\n",
        "            if 보드[line[0]] == 보드[line[1]] == 보드[line[2]] != ' ':\n",
        "                return True\n",
        "        return False\n",
        "\n",
        "    def 무승부_검사():\n",
        "        return ' ' not in 보드\n",
        "\n",
        "    while True:\n",
        "        그리기()\n",
        "        위치 = int(input(f\"{현재_플레이어} 플레이어, 돌을 놓을 위치를 선택하세요 (1-9): \")) - 1\n",
        "\n",
        "        if 보드[위치] == ' ':\n",
        "            보드[위치] = 현재_플레이어\n",
        "\n",
        "            if 이긴_검사():\n",
        "                그리기()\n",
        "                print(f\"{현재_플레이어} 플레이어가 이겼습니다!\")\n",
        "                break\n",
        "            elif 무승부_검사():\n",
        "                그리기()\n",
        "                print(\"무승부입니다!\")\n",
        "                break\n",
        "\n",
        "            현재_플레이어 = 'O' if 현재_플레이어 == 'X' else 'X'\n",
        "        else:\n",
        "            print(\"해당 위치에는 이미 돌이 놓여 있습니다. 다른 위치를 선택하세요.\")\n",
        "\n",
        "틱택토게임()\n"
      ]
    }
  ]
}