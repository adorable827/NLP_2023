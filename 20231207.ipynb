{
  "nbformat": 4,
  "nbformat_minor": 0,
  "metadata": {
    "colab": {
      "provenance": [],
      "authorship_tag": "ABX9TyPDojHwLCEIVImbcu//f63f",
      "include_colab_link": true
    },
    "kernelspec": {
      "name": "python3",
      "display_name": "Python 3"
    },
    "language_info": {
      "name": "python"
    }
  },
  "cells": [
    {
      "cell_type": "markdown",
      "metadata": {
        "id": "view-in-github",
        "colab_type": "text"
      },
      "source": [
        "<a href=\"https://colab.research.google.com/github/adorable827/NLP_2023/blob/main/20231207.ipynb\" target=\"_parent\"><img src=\"https://colab.research.google.com/assets/colab-badge.svg\" alt=\"Open In Colab\"/></a>"
      ]
    },
    {
      "cell_type": "code",
      "execution_count": null,
      "metadata": {
        "id": "BQssQyP5prTI"
      },
      "outputs": [],
      "source": [
        "import requests\n",
        "\n",
        "class 사전검색기:\n",
        "    def __init__(self):\n",
        "        pass\n",
        "\n",
        "    def 명령어_처리(self, 명령어):\n",
        "        if 명령어 == \"검색\":\n",
        "            단어 = input(\"뜻을 찾을 단어를 입력하세요: \")\n",
        "            self.사전_검색(단어)\n",
        "        elif 명령어 == \"종료\":\n",
        "            print(\"사전 검색기를 종료합니다.\")\n",
        "            return False\n",
        "        else:\n",
        "            print(\"알 수 없는 명령어입니다. 다시 입력하세요.\")\n",
        "        return True\n",
        "\n",
        "    def 사전_검색(self, 단어):\n",
        "        url = f\"https://api.dictionaryapi.dev/api/v2/entries/en/{단어}\"\n",
        "        응답 = requests.get(url)\n",
        "\n",
        "        if 응답.status_code == 200:\n",
        "            사전정보 = 응답.json()\n",
        "\n",
        "            if isinstance(사전정보, list):\n",
        "                첫번째_의미 = 사전정보[0].get(\"meanings\", [])\n",
        "                if 첫번째_의미:\n",
        "                    뜻 = 첫번째_의미[0].get(\"definitions\", [{}])[0].get(\"definition\", \"뜻 없음\")\n",
        "                    예문 = 첫번째_의미[0].get(\"definitions\", [{}])[0].get(\"example\", \"예문 없음\")\n",
        "\n",
        "                    print(f\"\\n'{단어}'의 뜻과 예문:\")\n",
        "                    print(f\"뜻: {뜻}\")\n",
        "                    print(f\"예문: {예문}\")\n",
        "                else:\n",
        "                    print(f\"'{단어}'의 뜻을 찾을 수 없습니다.\")\n",
        "            else:\n",
        "                print(f\"'{단어}'의 뜻을 찾을 수 없습니다.\")\n",
        "        else:\n",
        "            print(\"사전 검색에 실패했습니다.\")\n",
        "\n",
        "def 사전검색기실행():\n",
        "    사전검색기_인스턴스 = 사전검색기()\n",
        "    print(\"사전 검색기를 시작합니다. 명령어를 입력하세요.\")\n",
        "\n",
        "    while True:\n",
        "        명령어 = input(\"\\n(검색, 종료): \").lower()\n",
        "        결과 = 사전검색기_인스턴스.명령어_처리(명령어)\n",
        "        if not 결과:\n",
        "            break\n",
        "\n",
        "사전검색기실행()\n"
      ]
    }
  ]
}