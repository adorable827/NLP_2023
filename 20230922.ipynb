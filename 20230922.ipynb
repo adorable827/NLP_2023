{
  "nbformat": 4,
  "nbformat_minor": 0,
  "metadata": {
    "colab": {
      "provenance": [],
      "authorship_tag": "ABX9TyNQgQXi15bZEqScKMyY2I/M",
      "include_colab_link": true
    },
    "kernelspec": {
      "name": "python3",
      "display_name": "Python 3"
    },
    "language_info": {
      "name": "python"
    }
  },
  "cells": [
    {
      "cell_type": "markdown",
      "metadata": {
        "id": "view-in-github",
        "colab_type": "text"
      },
      "source": [
        "<a href=\"https://colab.research.google.com/github/adorable827/NLP_2023/blob/main/20230922.ipynb\" target=\"_parent\"><img src=\"https://colab.research.google.com/assets/colab-badge.svg\" alt=\"Open In Colab\"/></a>"
      ]
    },
    {
      "cell_type": "code",
      "execution_count": null,
      "metadata": {
        "id": "7vIOubS_E5On"
      },
      "outputs": [],
      "source": [
        "import requests\n",
        "\n",
        "def 영화_검색(제목):\n",
        "    api_url = f\"http://www.omdbapi.com/?t={제목}&apikey=YOUR_API_KEY\"\n",
        "\n",
        "    response = requests.get(api_url)\n",
        "\n",
        "    data = response.json()\n",
        "\n",
        "    if data[\"Response\"] == \"True\":\n",
        "        print(\"제목:\", data[\"Title\"])\n",
        "        print(\"개봉 연도:\", data[\"Year\"])\n",
        "        print(\"감독:\", data[\"Director\"])\n",
        "        print(\"주연 배우:\", data[\"Actors\"])\n",
        "        print(\"평점:\", data[\"imdbRating\"])\n",
        "        print(\"줄거리:\", data[\"Plot\"])\n",
        "    else:\n",
        "        print(\"영화를 찾을 수 없습니다.\")\n",
        "\n",
        "if __name__ == \"__main__\":\n",
        "    영화제목 = input(\"영화 제목을 입력하세요: \")\n",
        "    영화_검색(영화제목)\n"
      ]
    }
  ]
}