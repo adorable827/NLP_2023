{
  "nbformat": 4,
  "nbformat_minor": 0,
  "metadata": {
    "colab": {
      "provenance": [],
      "authorship_tag": "ABX9TyOqo3YdVTAp/7pWtIk3kGFv",
      "include_colab_link": true
    },
    "kernelspec": {
      "name": "python3",
      "display_name": "Python 3"
    },
    "language_info": {
      "name": "python"
    }
  },
  "cells": [
    {
      "cell_type": "markdown",
      "metadata": {
        "id": "view-in-github",
        "colab_type": "text"
      },
      "source": [
        "<a href=\"https://colab.research.google.com/github/adorable827/NLP_2023/blob/main/20231104.ipynb\" target=\"_parent\"><img src=\"https://colab.research.google.com/assets/colab-badge.svg\" alt=\"Open In Colab\"/></a>"
      ]
    },
    {
      "cell_type": "code",
      "execution_count": null,
      "metadata": {
        "id": "diszG04mIocd"
      },
      "outputs": [],
      "source": [
        "import random\n",
        "\n",
        "questions = [\n",
        "    \"생각하고 있는 것은 동물인가요?\",\n",
        "    \"생각하고 있는 것은 사람인가요?\",\n",
        "    \"생각하고 있는 것은 음식인가요?\",\n",
        "    \"생각하고 있는 것은 공포 영화에 나오는 것인가요?\",\n",
        "    \"생각하고 있는 것은 스포츠와 관련이 있나요?\",\n",
        "    \"생각하고 있는 것은 음악에 관련이 있나요?\",\n",
        "    \"생각하고 있는 것은 자연 속에 있는 것인가요?\",\n",
        "    \"생각하고 있는 것은 기술적인 장비인가요?\",\n",
        "    \"생각하고 있는 것은 유명한 인물인가요?\",\n",
        "    \"생각하고 있는 것은 미래의 일을 예언하는 물건인가요?\",\n",
        "    \"생각하고 있는 것은 영화나 TV에 자주 나오는 캐릭터인가요?\",\n",
        "    \"생각하고 있는 것은 전설 속에 등장하는 것인가요?\",\n",
        "    \"생각하고 있는 것은 실제로 존재하지 않는 것인가요?\",\n",
        "    \"생각하고 있는 것은 하늘에 있는 것인가요?\",\n",
        "    \"생각하고 있는 것은 우주와 관련이 있나요?\",\n",
        "    \"생각하고 있는 것은 역사적인 인물이나 사건과 관련이 있나요?\",\n",
        "    \"생각하고 있는 것은 스토리를 가진 책, 영화, 게임 등인가요?\",\n",
        "    \"생각하고 있는 것은 식물인가요?\",\n",
        "    \"생각하고 있는 것은 건물 또는 구조물인가요?\",\n",
        "    \"생각하고 있는 것은 자주 사용하는 일상 물품인가요?\"\n",
        "]\n",
        "\n",
        "computer_guess = None\n",
        "\n",
        "for question in questions:\n",
        "    user_answer = input(question + \" (yes/no): \").lower()\n",
        "\n",
        "    if user_answer == \"yes\":\n",
        "        continue\n",
        "    elif user_answer == \"no\":\n",
        "        computer_guess = input(\"당신이 생각하고 있는 것은 무엇인가요? \")\n",
        "        break\n",
        "    else:\n",
        "        print(\"올바른 답변을 입력하세요 (yes/no).\")\n",
        "\n",
        "if computer_guess:\n",
        "    print(f\"당신이 생각하고 있는 것은 {computer_guess}이(가) 맞나요?\")\n",
        "else:\n",
        "    print(\"모든 질문을 다 물어봤지만, 당신이 생각한 것을 추측하지 못했습니다.\")\n"
      ]
    },
    {
      "cell_type": "code",
      "source": [],
      "metadata": {
        "id": "TnNBmbYkI6c9"
      },
      "execution_count": null,
      "outputs": []
    }
  ]
}