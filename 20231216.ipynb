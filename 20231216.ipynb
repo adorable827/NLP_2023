{
  "nbformat": 4,
  "nbformat_minor": 0,
  "metadata": {
    "colab": {
      "provenance": [],
      "authorship_tag": "ABX9TyOdUp+6sSYBmHlT4wcfW6uS",
      "include_colab_link": true
    },
    "kernelspec": {
      "name": "python3",
      "display_name": "Python 3"
    },
    "language_info": {
      "name": "python"
    }
  },
  "cells": [
    {
      "cell_type": "markdown",
      "metadata": {
        "id": "view-in-github",
        "colab_type": "text"
      },
      "source": [
        "<a href=\"https://colab.research.google.com/github/adorable827/NLP_2023/blob/main/20231216.ipynb\" target=\"_parent\"><img src=\"https://colab.research.google.com/assets/colab-badge.svg\" alt=\"Open In Colab\"/></a>"
      ]
    },
    {
      "cell_type": "code",
      "execution_count": null,
      "metadata": {
        "id": "hPdnR3vLozSa"
      },
      "outputs": [],
      "source": [
        "class 일정관리프로그램:\n",
        "    def __init__(self):\n",
        "        self.일정목록 = []\n",
        "\n",
        "    def 명령어_처리(self, 명령어):\n",
        "        if 명령어 == \"추가\":\n",
        "            self.일정_추가()\n",
        "        elif 명령어 == \"조회\":\n",
        "            self.일정_조회()\n",
        "        elif 명령어 == \"종료\":\n",
        "            print(\"일정 관리 프로그램을 종료합니다.\")\n",
        "            return False\n",
        "        else:\n",
        "            print(\"알 수 없는 명령어입니다. 다시 입력하세요.\")\n",
        "        return True\n",
        "\n",
        "    def 일정_추가(self):\n",
        "        새_일정 = input(\"추가할 일정을 입력하세요: \")\n",
        "        self.일정목록.append(새_일정)\n",
        "        print(f\"'{새_일정}' 일정을 추가했습니다.\")\n",
        "\n",
        "    def 일정_조회(self):\n",
        "        print(\"\\n일정 목록:\")\n",
        "        for idx, 일정 in enumerate(self.일정목록, 1):\n",
        "            print(f\"{idx}. {일정}\")\n",
        "\n",
        "def 일정관리프로그램실행():\n",
        "    프로그램_인스턴스 = 일정관리프로그램()\n",
        "    print(\"일정 관리 프로그램을 시작합니다. 명령어를 입력하세요.\")\n",
        "\n",
        "    while True:\n",
        "        명령어 = input(\"\\n(추가, 조회, 종료): \").lower()\n",
        "        결과 = 프로그램_인스턴스.명령어_처리(명령어)\n",
        "        if not 결과:\n",
        "            break\n",
        "=\n",
        "일정관리프로그램실행()\n"
      ]
    }
  ]
}