{
  "nbformat": 4,
  "nbformat_minor": 0,
  "metadata": {
    "colab": {
      "provenance": [],
      "authorship_tag": "ABX9TyP08n+lo9UlDBr7Zs9P+eWe",
      "include_colab_link": true
    },
    "kernelspec": {
      "name": "python3",
      "display_name": "Python 3"
    },
    "language_info": {
      "name": "python"
    }
  },
  "cells": [
    {
      "cell_type": "markdown",
      "metadata": {
        "id": "view-in-github",
        "colab_type": "text"
      },
      "source": [
        "<a href=\"https://colab.research.google.com/github/adorable827/NLP_2023/blob/main/20231115.ipynb\" target=\"_parent\"><img src=\"https://colab.research.google.com/assets/colab-badge.svg\" alt=\"Open In Colab\"/></a>"
      ]
    },
    {
      "cell_type": "code",
      "execution_count": null,
      "metadata": {
        "id": "Fb-lQPYB5BlS"
      },
      "outputs": [],
      "source": [
        "def 미로탈출게임():\n",
        "    미로 = [\n",
        "        ['S', ' ', '#', '#', '#', '#', '#', '#', '#'],\n",
        "        ['#', ' ', '#', '#', '#', ' ', '#', '#', '#'],\n",
        "        ['#', ' ', ' ', ' ', '#', ' ', '#', '#', '#'],\n",
        "        ['#', '#', '#', ' ', '#', ' ', '#', '#', '#'],\n",
        "        ['#', '#', '#', ' ', ' ', ' ', ' ', ' ', '#'],\n",
        "        ['#', '#', '#', '#', '#', '#', '#', ' ', '#'],\n",
        "        ['#', '#', '#', '#', '#', '#', '#', ' ', '#'],\n",
        "        ['#', '#', '#', '#', '#', '#', '#', ' ', '#'],\n",
        "        ['#', '#', '#', '#', '#', '#', '#', 'E', '#']\n",
        "    ]\n",
        "\n",
        "    def 그리기():\n",
        "        for 행 in 미로:\n",
        "            print(' '.join(행))\n",
        "\n",
        "    def 이동(방향):\n",
        "        플레이어_위치 = 찾기('S')\n",
        "        목표_위치 = 찾기('E')\n",
        "\n",
        "        새로운_위치 = [플레이어_위치[0] + 방향[0], 플레이어_위치[1] + 방향[1]]\n",
        "\n",
        "        if 0 <= 새로운_위치[0] < len(미로) and 0 <= 새로운_위치[1] < len(미로[0]) and 미로[새로운_위치[0]][새로운_위치[1]] != '#':\n",
        "            미로[플레이어_위치[0]][플레이어_위치[1]] = ' '\n",
        "            미로[새로운_위치[0]][새로운_위치[1]] = 'S'\n",
        "\n",
        "            if 새로운_위치 == 목표_위치:\n",
        "                return True\n",
        "\n",
        "        return False\n",
        "\n",
        "    def 찾기(요소):\n",
        "        for i, 행 in enumerate(미로):\n",
        "            for j, 열 in enumerate(행):\n",
        "                if 열 == 요소:\n",
        "                    return [i, j]\n",
        "\n",
        "    print(\"미로 탈출 게임을 시작합니다! 'S'는 시작 지점, 'E'는 도착 지점입니다.\")\n",
        "\n",
        "    while True:\n",
        "        그리기()\n",
        "\n",
        "        이동방향 = input(\"이동 방향을 입력하세요 (위: W, 아래: S, 왼쪽: A, 오른쪽: D): \").upper()\n",
        "\n",
        "        if 이동방향 == 'W':\n",
        "            if 이동([-1, 0]):\n",
        "                print(\"도착 지점에 도달했습니다. 축하합니다!\")\n",
        "                break\n",
        "        elif 이동방향 == 'S':\n",
        "            if 이동([1, 0]):\n",
        "                print(\"도착 지점에 도달했습니다. 축하합니다!\")\n",
        "                break\n",
        "        elif 이동방향 == 'A':\n",
        "            if 이동([0, -1]):\n",
        "                print(\"도착 지점에 도달했습니다. 축하합니다!\")\n",
        "                break\n",
        "        elif 이동방향 == 'D':\n",
        "            if 이동([0, 1]):\n",
        "                print(\"도착 지점에 도달했습니다. 축하합니다!\")\n",
        "                break\n",
        "        else:\n",
        "            print(\"올바르지 않은 입력입니다. 다시 입력하세요.\")\n",
        "\n",
        "미로탈출게임()\n"
      ]
    }
  ]
}