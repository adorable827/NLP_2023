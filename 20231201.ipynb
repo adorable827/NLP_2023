{
  "nbformat": 4,
  "nbformat_minor": 0,
  "metadata": {
    "colab": {
      "provenance": [],
      "authorship_tag": "ABX9TyOXMuCJdIuZmfmwLagc+0hz",
      "include_colab_link": true
    },
    "kernelspec": {
      "name": "python3",
      "display_name": "Python 3"
    },
    "language_info": {
      "name": "python"
    }
  },
  "cells": [
    {
      "cell_type": "markdown",
      "metadata": {
        "id": "view-in-github",
        "colab_type": "text"
      },
      "source": [
        "<a href=\"https://colab.research.google.com/github/adorable827/NLP_2023/blob/main/20231201.ipynb\" target=\"_parent\"><img src=\"https://colab.research.google.com/assets/colab-badge.svg\" alt=\"Open In Colab\"/></a>"
      ]
    },
    {
      "cell_type": "code",
      "execution_count": null,
      "metadata": {
        "id": "MiUerFkKiC98"
      },
      "outputs": [],
      "source": [
        "import requests\n",
        "\n",
        "class 날씨정보알리미:\n",
        "    def __init__(self, api_key):\n",
        "        self.api_key = api_key\n",
        "\n",
        "    def 명령어_처리(self, 명령어):\n",
        "        if 명령어 == \"조회\":\n",
        "            도시 = input(\"날씨를 조회할 도시를 입력하세요: \")\n",
        "            self.날씨_조회(도시)\n",
        "        elif 명령어 == \"종료\":\n",
        "            print(\"날씨 정보 알리미를 종료합니다.\")\n",
        "            return False\n",
        "        else:\n",
        "            print(\"알 수 없는 명령어입니다. 다시 입력하세요.\")\n",
        "        return True\n",
        "\n",
        "    def 날씨_조회(self, 도시):\n",
        "        url = f\"http://api.openweathermap.org/data/2.5/weather?q={도시}&appid={self.api_key}&units=metric\"\n",
        "        응답 = requests.get(url)\n",
        "\n",
        "        if 응답.status_code == 200:\n",
        "            날씨정보 = 응답.json()\n",
        "            온도 = 날씨정보[\"main\"][\"temp\"]\n",
        "            날씨상태 = 날씨정보[\"weather\"][0][\"description\"]\n",
        "            print(f\"{도시}의 현재 날씨: 온도 {온도}도, 상태 {날씨상태}\")\n",
        "        else:\n",
        "            print(f\"{도시}의 날씨 정보를 가져오는 데 실패했습니다.\")\n",
        "\n",
        "def 날씨정보알리미실행(api_key):\n",
        "    날씨정보_인스턴스 = 날씨정보알리미(api_key)\n",
        "    print(\"날씨 정보 알리미를 시작합니다. 명령어를 입력하세요.\")\n",
        "\n",
        "    while True:\n",
        "        명령어 = input(\"\\n(조회, 종료): \").lower()\n",
        "        결과 = 날씨정보_인스턴스.명령어_처리(명령어)\n",
        "        if not 결과:\n",
        "            break\n",
        "\n",
        "api_key = \"your_openweathermap_api_key\"\n",
        "\n",
        "날씨정보알리미실행(api_key)\n"
      ]
    }
  ]
}