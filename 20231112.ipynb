{
  "nbformat": 4,
  "nbformat_minor": 0,
  "metadata": {
    "colab": {
      "provenance": [],
      "authorship_tag": "ABX9TyMQ602xVKqRZvgtwq1Akd9j",
      "include_colab_link": true
    },
    "kernelspec": {
      "name": "python3",
      "display_name": "Python 3"
    },
    "language_info": {
      "name": "python"
    }
  },
  "cells": [
    {
      "cell_type": "markdown",
      "metadata": {
        "id": "view-in-github",
        "colab_type": "text"
      },
      "source": [
        "<a href=\"https://colab.research.google.com/github/adorable827/NLP_2023/blob/main/20231112.ipynb\" target=\"_parent\"><img src=\"https://colab.research.google.com/assets/colab-badge.svg\" alt=\"Open In Colab\"/></a>"
      ]
    },
    {
      "cell_type": "code",
      "execution_count": null,
      "metadata": {
        "id": "n93rIpi201jC"
      },
      "outputs": [],
      "source": [
        "def text_based_quiz_game():\n",
        "    quizzes = [\n",
        "        (\"세계에서 가장 큰 대륙은?\", \"아시아\"),\n",
        "        (\"태양계에서 네 번째로 가까운 행성은?\", \"화성\"),\n",
        "        (\"파이썬 프로그래밍 언어의 창시자는?\", \"귀도 반 로섬\")\n",
        "    ]\n",
        "\n",
        "    print(\"퀴즈 게임을 시작합니다!\")\n",
        "\n",
        "    correct_answers = 0\n",
        "\n",
        "    for quiz in quizzes:\n",
        "        question, answer = quiz\n",
        "        user_answer = input(f\"{question}\\n정답을 입력하세요: \")\n",
        "\n",
        "        if user_answer.lower() == answer.lower():\n",
        "            print(\"정답입니다!\\n\")\n",
        "            correct_answers += 1\n",
        "        else:\n",
        "            print(f\"틀렸습니다. 정답은 {answer}입니다.\\n\")\n",
        "\n",
        "    print(f\"퀴즈가 종료되었습니다. 맞춘 퀴즈 수: {correct_answers}/{len(quizzes)}\")\n",
        "\n",
        "text_based_quiz_game()\n"
      ]
    }
  ]
}