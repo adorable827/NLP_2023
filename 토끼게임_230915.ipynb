{
  "nbformat": 4,
  "nbformat_minor": 0,
  "metadata": {
    "colab": {
      "provenance": [],
      "authorship_tag": "ABX9TyNMOL431sKttAve3/Cyg+io",
      "include_colab_link": true
    },
    "kernelspec": {
      "name": "python3",
      "display_name": "Python 3"
    },
    "language_info": {
      "name": "python"
    }
  },
  "cells": [
    {
      "cell_type": "markdown",
      "metadata": {
        "id": "view-in-github",
        "colab_type": "text"
      },
      "source": [
        "<a href=\"https://colab.research.google.com/github/adorable827/NLP_2023/blob/main/%ED%86%A0%EB%81%BC%EA%B2%8C%EC%9E%84_230915.ipynb\" target=\"_parent\"><img src=\"https://colab.research.google.com/assets/colab-badge.svg\" alt=\"Open In Colab\"/></a>"
      ]
    },
    {
      "cell_type": "code",
      "execution_count": null,
      "metadata": {
        "id": "YMDYJimRzec1"
      },
      "outputs": [],
      "source": [
        "import pygame\n",
        "import random\n",
        "\n",
        "# 초기화\n",
        "pygame.init()\n",
        "\n",
        "# 화면 크기 설정\n",
        "screen_width = 800\n",
        "screen_height = 600\n",
        "screen = pygame.display.set_mode((screen_width, screen_height))\n",
        "\n",
        "# 토끼 이미지 불러오기\n",
        "rabbit_image = pygame.image.load(\"rabbit.png\")\n",
        "rabbit_width = 50\n",
        "rabbit_height = 50\n",
        "\n",
        "# 버블 이미지 불러오기\n",
        "bubble_image = pygame.image.load(\"bubble.png\")\n",
        "bubble_width = 40\n",
        "bubble_height = 40\n",
        "\n",
        "# 토끼 위치 초기화\n",
        "rabbit_x = screen_width // 2\n",
        "rabbit_y = screen_height - rabbit_height\n",
        "\n",
        "# 버블 초기 위치 설정\n",
        "bubble_x = random.randint(0, screen_width - bubble_width)\n",
        "bubble_y = 0\n",
        "\n",
        "# 점수 초기화\n",
        "score = 0\n",
        "\n",
        "# 폰트 설정\n",
        "font = pygame.font.Font(None, 36)\n",
        "\n",
        "# 게임 루프\n",
        "running = True\n",
        "while running:\n",
        "    for event in pygame.event.get():\n",
        "        if event.type == pygame.QUIT:\n",
        "            running = False\n",
        "\n",
        "    # 화면 지우기\n",
        "    screen.fill((255, 255, 255))\n",
        "\n",
        "    # 버블 그리기\n",
        "    screen.blit(bubble_image, (bubble_x, bubble_y))\n",
        "\n",
        "    # 토끼 그리기\n",
        "    screen.blit(rabbit_image, (rabbit_x, rabbit_y))\n",
        "\n",
        "    # 버블 아래로 이동\n",
        "    bubble_y += 5\n",
        "\n",
        "    # 버블이 화면 아래로 벗어나면 새로운 위치로 이동\n",
        "    if bubble_y > screen_height:\n",
        "        bubble_x = random.randint(0, screen_width - bubble_width)\n",
        "        bubble_y = 0\n",
        "\n",
        "    # 충돌 검사\n",
        "    if (\n",
        "        rabbit_x < bubble_x + bubble_width\n",
        "        and rabbit_x + rabbit_width > bubble_x\n",
        "        and rabbit_y < bubble_y + bubble_height\n",
        "        and rabbit_y + rabbit_height > bubble_y\n",
        "    ):\n",
        "        # 충돌했을 때\n",
        "        score += 10\n",
        "        bubble_x = random.randint(0, screen_width - bubble_width)\n",
        "        bubble_y = 0\n",
        "\n",
        "    # 점수 표시\n",
        "    score_text = font.render(\"Score: \" + str(score), True, (0, 0, 0))\n",
        "    screen.blit(score_text, (10, 10))\n",
        "\n",
        "    # 화면 업데이트\n",
        "    pygame.display.update()\n",
        "\n",
        "# 게임 종료\n",
        "pygame.quit()\n"
      ]
    }
  ]
}