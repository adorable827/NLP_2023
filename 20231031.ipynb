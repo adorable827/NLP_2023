{
  "nbformat": 4,
  "nbformat_minor": 0,
  "metadata": {
    "colab": {
      "provenance": [],
      "authorship_tag": "ABX9TyMPtfUFq4oadXcBIgs6um9d",
      "include_colab_link": true
    },
    "kernelspec": {
      "name": "python3",
      "display_name": "Python 3"
    },
    "language_info": {
      "name": "python"
    }
  },
  "cells": [
    {
      "cell_type": "markdown",
      "metadata": {
        "id": "view-in-github",
        "colab_type": "text"
      },
      "source": [
        "<a href=\"https://colab.research.google.com/github/adorable827/NLP_2023/blob/main/20231031.ipynb\" target=\"_parent\"><img src=\"https://colab.research.google.com/assets/colab-badge.svg\" alt=\"Open In Colab\"/></a>"
      ]
    },
    {
      "cell_type": "code",
      "execution_count": null,
      "metadata": {
        "id": "Q5gasp9POO4E"
      },
      "outputs": [],
      "source": [
        "import pygame\n",
        "import sys\n",
        "import random\n",
        "\n",
        "pygame.init()\n",
        "\n",
        "WIDTH, HEIGHT = 400, 400\n",
        "screen = pygame.display.set_mode((WIDTH, HEIGHT))\n",
        "\n",
        "WHITE = (255, 255, 255)\n",
        "GREEN = (0, 255, 0)\n",
        "\n",
        "snake = [(100, 50)]\n",
        "snake_speed = 15\n",
        "direction = 'RIGHT'\n",
        "\n",
        "food = (random.randint(0, (WIDTH-10) // 10) * 10, random.randint(0, (HEIGHT-10) // 10) * 10)\n",
        "\n",
        "while True:\n",
        "    for event in pygame.event.get():\n",
        "        if event.type == pygame.QUIT:\n",
        "            pygame.quit()\n",
        "            sys.exit()\n",
        "        elif event.type == pygame.KEYDOWN:\n",
        "            if event.key == pygame.K_UP and direction != 'DOWN':\n",
        "                direction = 'UP'\n",
        "            if event.key == pygame.K_DOWN and direction != 'UP':\n",
        "                direction = 'DOWN'\n",
        "            if event.key == pygame.K_LEFT and direction != 'RIGHT':\n",
        "                direction = 'LEFT'\n",
        "            if event.key == pygame.K_RIGHT and direction != 'LEFT':\n",
        "                direction = 'RIGHT'\n",
        "\n",
        "    x, y = snake[0]\n",
        "    if direction == 'UP':\n",
        "        y -= 10\n",
        "    if direction == 'DOWN':\n",
        "        y += 10\n",
        "    if direction == 'LEFT':\n",
        "        x -= 10\n",
        "    if direction == 'RIGHT':\n",
        "        x += 10\n",
        "    snake.insert(0, (x, y))\n",
        "\n",
        "    if snake[0] == food:\n",
        "        food = (random.randint(0, (WIDTH-10) // 10) * 10, random.randint(0, (HEIGHT-10) // 10) * 10)\n",
        "    else:\n",
        "        snake.pop()\n",
        "\n",
        "    screen.fill(WHITE)\n",
        "    for segment in snake:\n",
        "        pygame.draw.rect(screen, GREEN, (segment[0], segment[1], 10, 10))\n",
        "    pygame.draw.rect(screen, GREEN, (food[0], food[1], 10, 10))\n",
        "    pygame.display.update()\n",
        "\n",
        "    if (x < 0 or x >= WIDTH or y < 0 or y >= HEIGHT) or (snake.count(snake[0]) > 1):\n",
        "        pygame.quit()\n",
        "        sys.exit()\n",
        "\n",
        "    pygame.time.Clock().tick(snake_speed)\n"
      ]
    }
  ]
}