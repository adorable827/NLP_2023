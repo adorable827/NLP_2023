{
  "nbformat": 4,
  "nbformat_minor": 0,
  "metadata": {
    "colab": {
      "provenance": [],
      "authorship_tag": "ABX9TyN+HYaA/alK8ICX08ftUB47",
      "include_colab_link": true
    },
    "kernelspec": {
      "name": "python3",
      "display_name": "Python 3"
    },
    "language_info": {
      "name": "python"
    }
  },
  "cells": [
    {
      "cell_type": "markdown",
      "metadata": {
        "id": "view-in-github",
        "colab_type": "text"
      },
      "source": [
        "<a href=\"https://colab.research.google.com/github/adorable827/NLP_2023/blob/main/20231019.ipynb\" target=\"_parent\"><img src=\"https://colab.research.google.com/assets/colab-badge.svg\" alt=\"Open In Colab\"/></a>"
      ]
    },
    {
      "cell_type": "code",
      "execution_count": null,
      "metadata": {
        "id": "EjLqR9nR1Fqs"
      },
      "outputs": [],
      "source": [
        "import time\n",
        "from plyer import notification\n",
        "\n",
        "def remind_to_take_a_break():\n",
        "    while True:\n",
        "        notification.notify(\n",
        "            title=\"휴식 시간!\",\n",
        "            message=\"자리에서 일어나서 휴식을 취하세요.\",\n",
        "            timeout=10\n",
        "        )\n",
        "        time.sleep(60 * 60)  # 1시간마다 알림\n",
        "\n",
        "if __name__ == \"__main__\":\n",
        "    remind_to_take_a_break()\n"
      ]
    }
  ]
}