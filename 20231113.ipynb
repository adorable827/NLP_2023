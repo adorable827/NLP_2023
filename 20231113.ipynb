{
  "nbformat": 4,
  "nbformat_minor": 0,
  "metadata": {
    "colab": {
      "provenance": [],
      "authorship_tag": "ABX9TyNmbsJUEa4wzWceuP1qmwld",
      "include_colab_link": true
    },
    "kernelspec": {
      "name": "python3",
      "display_name": "Python 3"
    },
    "language_info": {
      "name": "python"
    }
  },
  "cells": [
    {
      "cell_type": "markdown",
      "metadata": {
        "id": "view-in-github",
        "colab_type": "text"
      },
      "source": [
        "<a href=\"https://colab.research.google.com/github/adorable827/NLP_2023/blob/main/20231113.ipynb\" target=\"_parent\"><img src=\"https://colab.research.google.com/assets/colab-badge.svg\" alt=\"Open In Colab\"/></a>"
      ]
    },
    {
      "cell_type": "code",
      "execution_count": null,
      "metadata": {
        "id": "IegrWkct-dvt"
      },
      "outputs": [],
      "source": [
        "import random\n",
        "\n",
        "def 숫자야구게임():\n",
        "    print(\"숫자 야구 게임을 시작합니다!\")\n",
        "    print(\"1에서 9까지의 서로 다른 숫자로 이루어진 3자리 숫자를 맞춰보세요.\")\n",
        "\n",
        "    정답 = ''.join(random.sample('123456789', 3))\n",
        "\n",
        "    while True:\n",
        "        추측 = input(\"숫자를 입력하세요: \")\n",
        "\n",
        "        스트라이크, 볼 = 0, 0\n",
        "        for i in range(3):\n",
        "            if 추측[i] == 정답[i]:\n",
        "                스트라이크 += 1\n",
        "            elif 추측[i] in 정답:\n",
        "                볼 += 1\n",
        "\n",
        "        print(f\"결과: {스트라이크} 스트라이크, {볼} 볼\")\n",
        "\n",
        "        if 스트라이크 == 3:\n",
        "            print(\"축하합니다! 정답을 맞추셨습니다.\")\n",
        "            break\n",
        "\n",
        "숫자야구게임()\n"
      ]
    }
  ]
}